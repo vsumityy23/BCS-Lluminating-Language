{
 "cells": [
  {
   "cell_type": "markdown",
   "metadata": {
    "id": "8Ocj7oj-PG4e"
   },
   "source": [
    "Model 1 with hugging face api"
   ]
  },
  {
   "cell_type": "code",
   "execution_count": 1,
   "metadata": {
    "id": "5VTqZuduhT-s"
   },
   "outputs": [
    {
     "name": "stdout",
     "output_type": "stream",
     "text": [
      "WARNING:tensorflow:From C:\\Users\\Acer\\AppData\\Roaming\\Python\\Python312\\site-packages\\tf_keras\\src\\losses.py:2976: The name tf.losses.sparse_softmax_cross_entropy is deprecated. Please use tf.compat.v1.losses.sparse_softmax_cross_entropy instead.\n",
      "\n"
     ]
    }
   ],
   "source": [
    "import numpy as np\n",
    "import pandas as pd\n",
    "import matplotlib.pyplot as plt\n",
    "import seaborn as sns\n",
    "%matplotlib inline\n",
    "import re\n",
    "import tensorflow as tf\n",
    "import sklearn\n",
    "from sklearn.model_selection import train_test_split\n",
    "import torch\n",
    "from torch.utils.data import DataLoader\n",
    "from datasets import Dataset, DatasetDict\n",
    "from transformers import TrainingArguments,Trainer,pipeline\n",
    "from tensorflow.keras.preprocessing.text import Tokenizer\n"
   ]
  },
  {
   "cell_type": "code",
   "execution_count": 2,
   "metadata": {
    "id": "h4JNgJjWhkNd"
   },
   "outputs": [],
   "source": [
    "movie = pd.read_csv(\"C:/Users/Acer/Downloads/movie.csv\")"
   ]
  },
  {
   "cell_type": "code",
   "execution_count": 3,
   "metadata": {
    "colab": {
     "base_uri": "https://localhost:8080/",
     "height": 206
    },
    "id": "f7WYEmR1lCRB",
    "outputId": "c0605f4d-29b1-46e4-f43c-f7f25624df53"
   },
   "outputs": [
    {
     "data": {
      "text/html": [
       "<div>\n",
       "<style scoped>\n",
       "    .dataframe tbody tr th:only-of-type {\n",
       "        vertical-align: middle;\n",
       "    }\n",
       "\n",
       "    .dataframe tbody tr th {\n",
       "        vertical-align: top;\n",
       "    }\n",
       "\n",
       "    .dataframe thead th {\n",
       "        text-align: right;\n",
       "    }\n",
       "</style>\n",
       "<table border=\"1\" class=\"dataframe\">\n",
       "  <thead>\n",
       "    <tr style=\"text-align: right;\">\n",
       "      <th></th>\n",
       "      <th>text</th>\n",
       "      <th>label</th>\n",
       "    </tr>\n",
       "  </thead>\n",
       "  <tbody>\n",
       "    <tr>\n",
       "      <th>0</th>\n",
       "      <td>I grew up (b. 1965) watching and loving the Th...</td>\n",
       "      <td>0</td>\n",
       "    </tr>\n",
       "    <tr>\n",
       "      <th>1</th>\n",
       "      <td>When I put this movie in my DVD player, and sa...</td>\n",
       "      <td>0</td>\n",
       "    </tr>\n",
       "    <tr>\n",
       "      <th>2</th>\n",
       "      <td>Why do people who do not know what a particula...</td>\n",
       "      <td>0</td>\n",
       "    </tr>\n",
       "    <tr>\n",
       "      <th>3</th>\n",
       "      <td>Even though I have great interest in Biblical ...</td>\n",
       "      <td>0</td>\n",
       "    </tr>\n",
       "    <tr>\n",
       "      <th>4</th>\n",
       "      <td>Im a die hard Dads Army fan and nothing will e...</td>\n",
       "      <td>1</td>\n",
       "    </tr>\n",
       "  </tbody>\n",
       "</table>\n",
       "</div>"
      ],
      "text/plain": [
       "                                                text  label\n",
       "0  I grew up (b. 1965) watching and loving the Th...      0\n",
       "1  When I put this movie in my DVD player, and sa...      0\n",
       "2  Why do people who do not know what a particula...      0\n",
       "3  Even though I have great interest in Biblical ...      0\n",
       "4  Im a die hard Dads Army fan and nothing will e...      1"
      ]
     },
     "execution_count": 3,
     "metadata": {},
     "output_type": "execute_result"
    }
   ],
   "source": [
    "movie.head()"
   ]
  },
  {
   "cell_type": "code",
   "execution_count": 4,
   "metadata": {
    "colab": {
     "base_uri": "https://localhost:8080/",
     "height": 285
    },
    "id": "e_hLKawQlfyb",
    "outputId": "a16307d1-595d-4717-9fce-2bb40a265724"
   },
   "outputs": [
    {
     "data": {
      "text/plain": [
       "<seaborn.axisgrid.PairGrid at 0x21d85f64140>"
      ]
     },
     "execution_count": 4,
     "metadata": {},
     "output_type": "execute_result"
    },
    {
     "data": {
      "image/png": "[encoded data removed]",
      "text/plain": [
       "<Figure size 250x250 with 2 Axes>"
      ]
     },
     "metadata": {},
     "output_type": "display_data"
    }
   ],
   "source": [
    "sns.pairplot(movie)"
   ]
  },
  {
   "cell_type": "code",
   "execution_count": 5,
   "metadata": {
    "colab": {
     "base_uri": "https://localhost:8080/"
    },
    "id": "SJw2HRmtlzWX",
    "outputId": "9b3924eb-8508-4ff8-91dc-d48682c00fd0"
   },
   "outputs": [],
   "source": [
    "pipe = pipeline(\"text-classification\", model=\"distilbert/distilbert-base-uncased-finetuned-sst-2-english\")"
   ]
  },
  {
   "cell_type": "code",
   "execution_count": 6,
   "metadata": {
    "id": "_UJV3Y8qlDw-"
   },
   "outputs": [],
   "source": [
    "def truncate_text(text, max_words):\n",
    "    words = text.split()\n",
    "    if len(words) <= max_words:\n",
    "        return text\n",
    "    truncated_words = words[:max_words]  # Truncate to the specified number of words\n",
    "    truncated_text = ' '.join(truncated_words)  # Join words back into a single string\n",
    "    return truncated_text"
   ]
  },
  {
   "cell_type": "code",
   "execution_count": 7,
   "metadata": {
    "id": "VDpXyb2Sl3Ac"
   },
   "outputs": [],
   "source": [
    "data =movie['text'].apply(lambda x: truncate_text(x, 300))"
   ]
  },
  {
   "cell_type": "code",
   "execution_count": 8,
   "metadata": {
    "id": "rr3FHmvAnv-y"
   },
   "outputs": [],
   "source": [
    "predictions = [pipe(text) for text in data.iloc[:500]]"
   ]
  },
  {
   "cell_type": "code",
   "execution_count": 9,
   "metadata": {
    "colab": {
     "base_uri": "https://localhost:8080/"
    },
    "id": "k3azKa_9qJJv",
    "outputId": "c445b997-b50a-4584-fa24-929534a37bad"
   },
   "outputs": [
    {
     "name": "stdout",
     "output_type": "stream",
     "text": [
      "[[{'label': 'NEGATIVE', 'score': 0.9997420907020569}], [{'label': 'NEGATIVE', 'score': 0.9978891015052795}], [{'label': 'NEGATIVE', 'score': 0.9982742071151733}], [{'label': 'NEGATIVE', 'score': 0.999797523021698}], [{'label': 'NEGATIVE', 'score': 0.9400165677070618}], [{'label': 'POSITIVE', 'score': 0.9408488273620605}], [{'label': 'POSITIVE', 'score': 0.996920108795166}], [{'label': 'NEGATIVE', 'score': 0.9914008975028992}], [{'label': 'POSITIVE', 'score': 0.9982280135154724}], [{'label': 'POSITIVE', 'score': 0.9986273050308228}], [{'label': 'NEGATIVE', 'score': 0.8298906087875366}], [{'label': 'NEGATIVE', 'score': 0.9833393096923828}], [{'label': 'POSITIVE', 'score': 0.9995651841163635}], [{'label': 'NEGATIVE', 'score': 0.9995710253715515}], [{'label': 'NEGATIVE', 'score': 0.9629203677177429}], [{'label': 'POSITIVE', 'score': 0.998991072177887}], [{'label': 'POSITIVE', 'score': 0.9947516322135925}], [{'label': 'NEGATIVE', 'score': 0.9995036125183105}], [{'label': 'NEGATIVE', 'score': 0.9938116073608398}], [{'label': 'NEGATIVE', 'score': 0.6040121912956238}], [{'label': 'POSITIVE', 'score': 0.9975422620773315}], [{'label': 'NEGATIVE', 'score': 0.9882839918136597}], [{'label': 'POSITIVE', 'score': 0.9986588954925537}], [{'label': 'NEGATIVE', 'score': 0.9956234097480774}], [{'label': 'POSITIVE', 'score': 0.9996408224105835}], [{'label': 'POSITIVE', 'score': 0.9922248125076294}], [{'label': 'POSITIVE', 'score': 0.6921623945236206}], [{'label': 'POSITIVE', 'score': 0.9992565512657166}], [{'label': 'NEGATIVE', 'score': 0.9995096921920776}], [{'label': 'NEGATIVE', 'score': 0.9801881313323975}], [{'label': 'POSITIVE', 'score': 0.9886451959609985}], [{'label': 'POSITIVE', 'score': 0.9992677569389343}], [{'label': 'NEGATIVE', 'score': 0.9987297654151917}], [{'label': 'POSITIVE', 'score': 0.9991793036460876}], [{'label': 'NEGATIVE', 'score': 0.9971722960472107}], [{'label': 'NEGATIVE', 'score': 0.9969419836997986}], [{'label': 'NEGATIVE', 'score': 0.9893262386322021}], [{'label': 'NEGATIVE', 'score': 0.9951441287994385}], [{'label': 'NEGATIVE', 'score': 0.9996521472930908}], [{'label': 'NEGATIVE', 'score': 0.9956739544868469}], [{'label': 'NEGATIVE', 'score': 0.9849123954772949}], [{'label': 'NEGATIVE', 'score': 0.9995337724685669}], [{'label': 'POSITIVE', 'score': 0.9997287392616272}], [{'label': 'NEGATIVE', 'score': 0.995270311832428}], [{'label': 'POSITIVE', 'score': 0.9009313583374023}], [{'label': 'POSITIVE', 'score': 0.9990737438201904}], [{'label': 'NEGATIVE', 'score': 0.9746734499931335}], [{'label': 'NEGATIVE', 'score': 0.9993840456008911}], [{'label': 'POSITIVE', 'score': 0.9979594945907593}], [{'label': 'NEGATIVE', 'score': 0.5994315147399902}], [{'label': 'POSITIVE', 'score': 0.9998212456703186}], [{'label': 'NEGATIVE', 'score': 0.9957285523414612}], [{'label': 'POSITIVE', 'score': 0.9998483657836914}], [{'label': 'NEGATIVE', 'score': 0.9579189419746399}], [{'label': 'POSITIVE', 'score': 0.9990077614784241}], [{'label': 'NEGATIVE', 'score': 0.9995028972625732}], [{'label': 'NEGATIVE', 'score': 0.9977490305900574}], [{'label': 'POSITIVE', 'score': 0.9984452128410339}], [{'label': 'POSITIVE', 'score': 0.9964821338653564}], [{'label': 'POSITIVE', 'score': 0.9987984895706177}], [{'label': 'POSITIVE', 'score': 0.9998819828033447}], [{'label': 'POSITIVE', 'score': 0.9400049448013306}], [{'label': 'NEGATIVE', 'score': 0.9993447661399841}], [{'label': 'POSITIVE', 'score': 0.9972295165061951}], [{'label': 'POSITIVE', 'score': 0.9998636245727539}], [{'label': 'POSITIVE', 'score': 0.9993305206298828}], [{'label': 'NEGATIVE', 'score': 0.9875427484512329}], [{'label': 'NEGATIVE', 'score': 0.7790988087654114}], [{'label': 'NEGATIVE', 'score': 0.9893357157707214}], [{'label': 'NEGATIVE', 'score': 0.9991588592529297}], [{'label': 'NEGATIVE', 'score': 0.9549453854560852}], [{'label': 'NEGATIVE', 'score': 0.9997934699058533}], [{'label': 'POSITIVE', 'score': 0.9195536375045776}], [{'label': 'NEGATIVE', 'score': 0.9990443587303162}], [{'label': 'NEGATIVE', 'score': 0.999799907207489}], [{'label': 'NEGATIVE', 'score': 0.9883096218109131}], [{'label': 'NEGATIVE', 'score': 0.8864574432373047}], [{'label': 'POSITIVE', 'score': 0.9987263083457947}], [{'label': 'NEGATIVE', 'score': 0.9964426159858704}], [{'label': 'NEGATIVE', 'score': 0.988315999507904}], [{'label': 'POSITIVE', 'score': 0.9452129602432251}], [{'label': 'NEGATIVE', 'score': 0.9994049072265625}], [{'label': 'POSITIVE', 'score': 0.9916862845420837}], [{'label': 'NEGATIVE', 'score': 0.9972477555274963}], [{'label': 'POSITIVE', 'score': 0.9998250603675842}], [{'label': 'POSITIVE', 'score': 0.8978979587554932}], [{'label': 'NEGATIVE', 'score': 0.9958343505859375}], [{'label': 'NEGATIVE', 'score': 0.9998146891593933}], [{'label': 'NEGATIVE', 'score': 0.9977057576179504}], [{'label': 'POSITIVE', 'score': 0.997977077960968}], [{'label': 'POSITIVE', 'score': 0.9989333748817444}], [{'label': 'POSITIVE', 'score': 0.9996111989021301}], [{'label': 'POSITIVE', 'score': 0.9998711347579956}], [{'label': 'POSITIVE', 'score': 0.9995642304420471}], [{'label': 'POSITIVE', 'score': 0.9928223490715027}], [{'label': 'POSITIVE', 'score': 0.9993221759796143}], [{'label': 'POSITIVE', 'score': 0.9993995428085327}], [{'label': 'NEGATIVE', 'score': 0.9748090505599976}], [{'label': 'NEGATIVE', 'score': 0.8857389092445374}], [{'label': 'NEGATIVE', 'score': 0.9953710436820984}], [{'label': 'POSITIVE', 'score': 0.9970197081565857}], [{'label': 'NEGATIVE', 'score': 0.9834595322608948}], [{'label': 'POSITIVE', 'score': 0.9995489716529846}], [{'label': 'NEGATIVE', 'score': 0.9997237324714661}], [{'label': 'NEGATIVE', 'score': 0.9993346333503723}], [{'label': 'NEGATIVE', 'score': 0.9989448189735413}], [{'label': 'NEGATIVE', 'score': 0.9943206310272217}], [{'label': 'NEGATIVE', 'score': 0.9956116080284119}], [{'label': 'NEGATIVE', 'score': 0.9982594847679138}], [{'label': 'POSITIVE', 'score': 0.9987961053848267}], [{'label': 'NEGATIVE', 'score': 0.9955957531929016}], [{'label': 'POSITIVE', 'score': 0.9833330512046814}], [{'label': 'POSITIVE', 'score': 0.9953933954238892}], [{'label': 'POSITIVE', 'score': 0.9998364448547363}], [{'label': 'NEGATIVE', 'score': 0.9990372657775879}], [{'label': 'POSITIVE', 'score': 0.557188093662262}], [{'label': 'NEGATIVE', 'score': 0.9985711574554443}], [{'label': 'POSITIVE', 'score': 0.991074800491333}], [{'label': 'NEGATIVE', 'score': 0.995925784111023}], [{'label': 'NEGATIVE', 'score': 0.9993841648101807}], [{'label': 'NEGATIVE', 'score': 0.9995307922363281}], [{'label': 'POSITIVE', 'score': 0.8699726462364197}], [{'label': 'POSITIVE', 'score': 0.9673792719841003}], [{'label': 'NEGATIVE', 'score': 0.9994440674781799}], [{'label': 'NEGATIVE', 'score': 0.9616528153419495}], [{'label': 'NEGATIVE', 'score': 0.9997554421424866}], [{'label': 'NEGATIVE', 'score': 0.9997097849845886}], [{'label': 'POSITIVE', 'score': 0.980129599571228}], [{'label': 'NEGATIVE', 'score': 0.9998162388801575}], [{'label': 'NEGATIVE', 'score': 0.9998088479042053}], [{'label': 'NEGATIVE', 'score': 0.9985681772232056}], [{'label': 'NEGATIVE', 'score': 0.9990484118461609}], [{'label': 'NEGATIVE', 'score': 0.9990824460983276}], [{'label': 'NEGATIVE', 'score': 0.9471489191055298}], [{'label': 'POSITIVE', 'score': 0.9860212206840515}], [{'label': 'NEGATIVE', 'score': 0.9812796115875244}], [{'label': 'NEGATIVE', 'score': 0.9823570251464844}], [{'label': 'POSITIVE', 'score': 0.9975269436836243}], [{'label': 'NEGATIVE', 'score': 0.9988928437232971}], [{'label': 'NEGATIVE', 'score': 0.9930351972579956}], [{'label': 'NEGATIVE', 'score': 0.9875887036323547}], [{'label': 'POSITIVE', 'score': 0.9816367030143738}], [{'label': 'POSITIVE', 'score': 0.9997777342796326}], [{'label': 'NEGATIVE', 'score': 0.9994702935218811}], [{'label': 'NEGATIVE', 'score': 0.9993723034858704}], [{'label': 'NEGATIVE', 'score': 0.9036964178085327}], [{'label': 'POSITIVE', 'score': 0.9597461819648743}], [{'label': 'POSITIVE', 'score': 0.9981667995452881}], [{'label': 'NEGATIVE', 'score': 0.9954912066459656}], [{'label': 'NEGATIVE', 'score': 0.9936316609382629}], [{'label': 'NEGATIVE', 'score': 0.9933745265007019}], [{'label': 'POSITIVE', 'score': 0.999822199344635}], [{'label': 'NEGATIVE', 'score': 0.999278724193573}], [{'label': 'POSITIVE', 'score': 0.9995909333229065}], [{'label': 'NEGATIVE', 'score': 0.9962244033813477}], [{'label': 'POSITIVE', 'score': 0.7308118343353271}], [{'label': 'POSITIVE', 'score': 0.9993693232536316}], [{'label': 'POSITIVE', 'score': 0.9991581439971924}], [{'label': 'POSITIVE', 'score': 0.9991577863693237}], [{'label': 'POSITIVE', 'score': 0.9987401366233826}], [{'label': 'POSITIVE', 'score': 0.999711811542511}], [{'label': 'POSITIVE', 'score': 0.9872280359268188}], [{'label': 'POSITIVE', 'score': 0.9998227953910828}], [{'label': 'NEGATIVE', 'score': 0.9977424144744873}], [{'label': 'NEGATIVE', 'score': 0.9995638728141785}], [{'label': 'POSITIVE', 'score': 0.9996771812438965}], [{'label': 'POSITIVE', 'score': 0.9344822764396667}], [{'label': 'NEGATIVE', 'score': 0.9995229244232178}], [{'label': 'POSITIVE', 'score': 0.9995861649513245}], [{'label': 'POSITIVE', 'score': 0.9994303584098816}], [{'label': 'POSITIVE', 'score': 0.9675847887992859}], [{'label': 'POSITIVE', 'score': 0.7411559820175171}], [{'label': 'NEGATIVE', 'score': 0.999613344669342}], [{'label': 'NEGATIVE', 'score': 0.9909371733665466}], [{'label': 'POSITIVE', 'score': 0.9946845173835754}], [{'label': 'POSITIVE', 'score': 0.9991577863693237}], [{'label': 'POSITIVE', 'score': 0.9340708255767822}], [{'label': 'POSITIVE', 'score': 0.9956093430519104}], [{'label': 'NEGATIVE', 'score': 0.997067391872406}], [{'label': 'POSITIVE', 'score': 0.9985933899879456}], [{'label': 'NEGATIVE', 'score': 0.9980738162994385}], [{'label': 'POSITIVE', 'score': 0.9729602932929993}], [{'label': 'POSITIVE', 'score': 0.9996726512908936}], [{'label': 'POSITIVE', 'score': 0.9976020455360413}], [{'label': 'POSITIVE', 'score': 0.9993112087249756}], [{'label': 'NEGATIVE', 'score': 0.9911351203918457}], [{'label': 'POSITIVE', 'score': 0.9992579817771912}], [{'label': 'POSITIVE', 'score': 0.9994022846221924}], [{'label': 'POSITIVE', 'score': 0.9887248873710632}], [{'label': 'POSITIVE', 'score': 0.9998249411582947}], [{'label': 'NEGATIVE', 'score': 0.9839304089546204}], [{'label': 'NEGATIVE', 'score': 0.9995772242546082}], [{'label': 'NEGATIVE', 'score': 0.9955032467842102}], [{'label': 'POSITIVE', 'score': 0.9997214674949646}], [{'label': 'POSITIVE', 'score': 0.9994626641273499}], [{'label': 'NEGATIVE', 'score': 0.9975405931472778}], [{'label': 'NEGATIVE', 'score': 0.9965903759002686}], [{'label': 'NEGATIVE', 'score': 0.9975430965423584}], [{'label': 'POSITIVE', 'score': 0.9799690842628479}], [{'label': 'NEGATIVE', 'score': 0.9989798665046692}], [{'label': 'NEGATIVE', 'score': 0.9995500445365906}], [{'label': 'POSITIVE', 'score': 0.9991094470024109}], [{'label': 'NEGATIVE', 'score': 0.9996576309204102}], [{'label': 'NEGATIVE', 'score': 0.9975013136863708}], [{'label': 'NEGATIVE', 'score': 0.999652624130249}], [{'label': 'POSITIVE', 'score': 0.9988901019096375}], [{'label': 'NEGATIVE', 'score': 0.9941118359565735}], [{'label': 'POSITIVE', 'score': 0.998256504535675}], [{'label': 'NEGATIVE', 'score': 0.9829599857330322}], [{'label': 'NEGATIVE', 'score': 0.9995337724685669}], [{'label': 'POSITIVE', 'score': 0.9994422793388367}], [{'label': 'NEGATIVE', 'score': 0.9989878535270691}], [{'label': 'NEGATIVE', 'score': 0.999087929725647}], [{'label': 'POSITIVE', 'score': 0.997639536857605}], [{'label': 'POSITIVE', 'score': 0.9987459182739258}], [{'label': 'NEGATIVE', 'score': 0.9979113936424255}], [{'label': 'POSITIVE', 'score': 0.9985015392303467}], [{'label': 'NEGATIVE', 'score': 0.9974976181983948}], [{'label': 'POSITIVE', 'score': 0.9932835102081299}], [{'label': 'POSITIVE', 'score': 0.9997451901435852}], [{'label': 'POSITIVE', 'score': 0.5147426724433899}], [{'label': 'POSITIVE', 'score': 0.9938980937004089}], [{'label': 'NEGATIVE', 'score': 0.9844426512718201}], [{'label': 'POSITIVE', 'score': 0.9915028810501099}], [{'label': 'NEGATIVE', 'score': 0.9995723366737366}], [{'label': 'POSITIVE', 'score': 0.9995391368865967}], [{'label': 'NEGATIVE', 'score': 0.9680630564689636}], [{'label': 'POSITIVE', 'score': 0.9990845918655396}], [{'label': 'POSITIVE', 'score': 0.8974767327308655}], [{'label': 'POSITIVE', 'score': 0.9909471273422241}], [{'label': 'POSITIVE', 'score': 0.9997090697288513}], [{'label': 'POSITIVE', 'score': 0.9971411228179932}], [{'label': 'POSITIVE', 'score': 0.9701533913612366}], [{'label': 'NEGATIVE', 'score': 0.9830392599105835}], [{'label': 'NEGATIVE', 'score': 0.7810483574867249}], [{'label': 'NEGATIVE', 'score': 0.9962947964668274}], [{'label': 'NEGATIVE', 'score': 0.9995630383491516}], [{'label': 'POSITIVE', 'score': 0.9953463673591614}], [{'label': 'POSITIVE', 'score': 0.9974408149719238}], [{'label': 'NEGATIVE', 'score': 0.6454392671585083}], [{'label': 'NEGATIVE', 'score': 0.9974702596664429}], [{'label': 'POSITIVE', 'score': 0.9972756505012512}], [{'label': 'POSITIVE', 'score': 0.9997764229774475}], [{'label': 'POSITIVE', 'score': 0.9995137453079224}], [{'label': 'NEGATIVE', 'score': 0.9979612827301025}], [{'label': 'NEGATIVE', 'score': 0.9996145963668823}], [{'label': 'NEGATIVE', 'score': 0.9995169639587402}], [{'label': 'NEGATIVE', 'score': 0.709960401058197}], [{'label': 'NEGATIVE', 'score': 0.9498603343963623}], [{'label': 'POSITIVE', 'score': 0.998796820640564}], [{'label': 'NEGATIVE', 'score': 0.9927529096603394}], [{'label': 'POSITIVE', 'score': 0.9986234903335571}], [{'label': 'NEGATIVE', 'score': 0.9827467203140259}], [{'label': 'POSITIVE', 'score': 0.999640941619873}], [{'label': 'NEGATIVE', 'score': 0.9703806638717651}], [{'label': 'NEGATIVE', 'score': 0.9992201328277588}], [{'label': 'POSITIVE', 'score': 0.9996206760406494}], [{'label': 'NEGATIVE', 'score': 0.9957350492477417}], [{'label': 'POSITIVE', 'score': 0.996425449848175}], [{'label': 'POSITIVE', 'score': 0.993427038192749}], [{'label': 'NEGATIVE', 'score': 0.9973942041397095}], [{'label': 'POSITIVE', 'score': 0.9993687272071838}], [{'label': 'NEGATIVE', 'score': 0.9997959733009338}], [{'label': 'NEGATIVE', 'score': 0.9977759718894958}], [{'label': 'POSITIVE', 'score': 0.9940662384033203}], [{'label': 'POSITIVE', 'score': 0.9994823932647705}], [{'label': 'NEGATIVE', 'score': 0.999716579914093}], [{'label': 'NEGATIVE', 'score': 0.9802377223968506}], [{'label': 'NEGATIVE', 'score': 0.9529679417610168}], [{'label': 'POSITIVE', 'score': 0.9996242523193359}], [{'label': 'NEGATIVE', 'score': 0.9992209672927856}], [{'label': 'POSITIVE', 'score': 0.9351721405982971}], [{'label': 'POSITIVE', 'score': 0.9996999502182007}], [{'label': 'NEGATIVE', 'score': 0.9989826083183289}], [{'label': 'POSITIVE', 'score': 0.9943926334381104}], [{'label': 'POSITIVE', 'score': 0.9984605312347412}], [{'label': 'NEGATIVE', 'score': 0.9997220635414124}], [{'label': 'POSITIVE', 'score': 0.7703426480293274}], [{'label': 'NEGATIVE', 'score': 0.9995797276496887}], [{'label': 'POSITIVE', 'score': 0.9998278617858887}], [{'label': 'NEGATIVE', 'score': 0.9997859597206116}], [{'label': 'NEGATIVE', 'score': 0.9986892342567444}], [{'label': 'NEGATIVE', 'score': 0.993024468421936}], [{'label': 'NEGATIVE', 'score': 0.9986316561698914}], [{'label': 'NEGATIVE', 'score': 0.995098888874054}], [{'label': 'NEGATIVE', 'score': 0.9757909178733826}], [{'label': 'NEGATIVE', 'score': 0.9995579123497009}], [{'label': 'POSITIVE', 'score': 0.9894165396690369}], [{'label': 'POSITIVE', 'score': 0.9977579712867737}], [{'label': 'NEGATIVE', 'score': 0.9984765648841858}], [{'label': 'POSITIVE', 'score': 0.9155212640762329}], [{'label': 'NEGATIVE', 'score': 0.9979653358459473}], [{'label': 'POSITIVE', 'score': 0.9950332641601562}], [{'label': 'NEGATIVE', 'score': 0.9985483288764954}], [{'label': 'NEGATIVE', 'score': 0.9993546605110168}], [{'label': 'POSITIVE', 'score': 0.5983268618583679}], [{'label': 'POSITIVE', 'score': 0.9996138215065002}], [{'label': 'POSITIVE', 'score': 0.9904650449752808}], [{'label': 'POSITIVE', 'score': 0.9993676543235779}], [{'label': 'NEGATIVE', 'score': 0.9977573752403259}], [{'label': 'NEGATIVE', 'score': 0.9991994500160217}], [{'label': 'NEGATIVE', 'score': 0.9997945427894592}], [{'label': 'POSITIVE', 'score': 0.9977549910545349}], [{'label': 'NEGATIVE', 'score': 0.9991669654846191}], [{'label': 'NEGATIVE', 'score': 0.9950088262557983}], [{'label': 'NEGATIVE', 'score': 0.9972406625747681}], [{'label': 'NEGATIVE', 'score': 0.9992062449455261}], [{'label': 'NEGATIVE', 'score': 0.9989759922027588}], [{'label': 'POSITIVE', 'score': 0.9988284707069397}], [{'label': 'NEGATIVE', 'score': 0.8924350142478943}], [{'label': 'NEGATIVE', 'score': 0.9996815919876099}], [{'label': 'POSITIVE', 'score': 0.5050300359725952}], [{'label': 'NEGATIVE', 'score': 0.999544084072113}], [{'label': 'POSITIVE', 'score': 0.9979081153869629}], [{'label': 'POSITIVE', 'score': 0.9963357448577881}], [{'label': 'NEGATIVE', 'score': 0.9964271187782288}], [{'label': 'NEGATIVE', 'score': 0.9518803358078003}], [{'label': 'NEGATIVE', 'score': 0.9910658001899719}], [{'label': 'NEGATIVE', 'score': 0.9998154044151306}], [{'label': 'POSITIVE', 'score': 0.9975985884666443}], [{'label': 'POSITIVE', 'score': 0.9996004700660706}], [{'label': 'NEGATIVE', 'score': 0.9995077848434448}], [{'label': 'NEGATIVE', 'score': 0.9997506737709045}], [{'label': 'NEGATIVE', 'score': 0.9267435073852539}], [{'label': 'POSITIVE', 'score': 0.9981982111930847}], [{'label': 'NEGATIVE', 'score': 0.9980173110961914}], [{'label': 'NEGATIVE', 'score': 0.9992932081222534}], [{'label': 'NEGATIVE', 'score': 0.9939199686050415}], [{'label': 'POSITIVE', 'score': 0.9984365105628967}], [{'label': 'NEGATIVE', 'score': 0.9541108012199402}], [{'label': 'NEGATIVE', 'score': 0.9953973889350891}], [{'label': 'NEGATIVE', 'score': 0.9882017970085144}], [{'label': 'POSITIVE', 'score': 0.8933544158935547}], [{'label': 'NEGATIVE', 'score': 0.9079165458679199}], [{'label': 'NEGATIVE', 'score': 0.9993811845779419}], [{'label': 'POSITIVE', 'score': 0.9928896427154541}], [{'label': 'POSITIVE', 'score': 0.9998699426651001}], [{'label': 'POSITIVE', 'score': 0.9977879524230957}], [{'label': 'POSITIVE', 'score': 0.9925557971000671}], [{'label': 'NEGATIVE', 'score': 0.9997579455375671}], [{'label': 'POSITIVE', 'score': 0.9988282322883606}], [{'label': 'POSITIVE', 'score': 0.9994637370109558}], [{'label': 'NEGATIVE', 'score': 0.9997379183769226}], [{'label': 'NEGATIVE', 'score': 0.9988470077514648}], [{'label': 'POSITIVE', 'score': 0.9996700286865234}], [{'label': 'POSITIVE', 'score': 0.9996368885040283}], [{'label': 'NEGATIVE', 'score': 0.9185357093811035}], [{'label': 'NEGATIVE', 'score': 0.999460756778717}], [{'label': 'POSITIVE', 'score': 0.9900799989700317}], [{'label': 'NEGATIVE', 'score': 0.9995436072349548}], [{'label': 'NEGATIVE', 'score': 0.9985999464988708}], [{'label': 'POSITIVE', 'score': 0.9985260367393494}], [{'label': 'NEGATIVE', 'score': 0.9825344681739807}], [{'label': 'NEGATIVE', 'score': 0.9994592070579529}], [{'label': 'POSITIVE', 'score': 0.9981610178947449}], [{'label': 'POSITIVE', 'score': 0.9998880624771118}], [{'label': 'POSITIVE', 'score': 0.9998444318771362}], [{'label': 'NEGATIVE', 'score': 0.9996494054794312}], [{'label': 'NEGATIVE', 'score': 0.9871798157691956}], [{'label': 'POSITIVE', 'score': 0.9954984188079834}], [{'label': 'NEGATIVE', 'score': 0.9779525399208069}], [{'label': 'NEGATIVE', 'score': 0.9895044565200806}], [{'label': 'NEGATIVE', 'score': 0.9983213543891907}], [{'label': 'NEGATIVE', 'score': 0.99973064661026}], [{'label': 'POSITIVE', 'score': 0.9996077418327332}], [{'label': 'POSITIVE', 'score': 0.999457061290741}], [{'label': 'NEGATIVE', 'score': 0.999072790145874}], [{'label': 'POSITIVE', 'score': 0.9995076656341553}], [{'label': 'NEGATIVE', 'score': 0.9915704727172852}], [{'label': 'NEGATIVE', 'score': 0.9994319081306458}], [{'label': 'POSITIVE', 'score': 0.9963653087615967}], [{'label': 'NEGATIVE', 'score': 0.9951210618019104}], [{'label': 'NEGATIVE', 'score': 0.9997331500053406}], [{'label': 'NEGATIVE', 'score': 0.9992080330848694}], [{'label': 'NEGATIVE', 'score': 0.9949551224708557}], [{'label': 'NEGATIVE', 'score': 0.9760373830795288}], [{'label': 'POSITIVE', 'score': 0.9957540035247803}], [{'label': 'NEGATIVE', 'score': 0.9961848855018616}], [{'label': 'POSITIVE', 'score': 0.9993342757225037}], [{'label': 'NEGATIVE', 'score': 0.9558932781219482}], [{'label': 'POSITIVE', 'score': 0.9989871382713318}], [{'label': 'POSITIVE', 'score': 0.9996984004974365}], [{'label': 'POSITIVE', 'score': 0.9991852641105652}], [{'label': 'POSITIVE', 'score': 0.999610960483551}], [{'label': 'NEGATIVE', 'score': 0.9913793802261353}], [{'label': 'NEGATIVE', 'score': 0.9785146117210388}], [{'label': 'NEGATIVE', 'score': 0.9989622831344604}], [{'label': 'POSITIVE', 'score': 0.9996128678321838}], [{'label': 'NEGATIVE', 'score': 0.99908447265625}], [{'label': 'NEGATIVE', 'score': 0.9997705817222595}], [{'label': 'NEGATIVE', 'score': 0.9566245079040527}], [{'label': 'NEGATIVE', 'score': 0.9997420907020569}], [{'label': 'NEGATIVE', 'score': 0.9972599744796753}], [{'label': 'POSITIVE', 'score': 0.9996565580368042}], [{'label': 'NEGATIVE', 'score': 0.999613344669342}], [{'label': 'NEGATIVE', 'score': 0.9970120191574097}], [{'label': 'POSITIVE', 'score': 0.9976809024810791}], [{'label': 'POSITIVE', 'score': 0.9992258548736572}], [{'label': 'NEGATIVE', 'score': 0.9612768292427063}], [{'label': 'POSITIVE', 'score': 0.9974409341812134}], [{'label': 'NEGATIVE', 'score': 0.9982572197914124}], [{'label': 'POSITIVE', 'score': 0.9995911717414856}], [{'label': 'NEGATIVE', 'score': 0.9979988932609558}], [{'label': 'POSITIVE', 'score': 0.9990332126617432}], [{'label': 'NEGATIVE', 'score': 0.9993851184844971}], [{'label': 'NEGATIVE', 'score': 0.9987609386444092}], [{'label': 'NEGATIVE', 'score': 0.984779953956604}], [{'label': 'POSITIVE', 'score': 0.9994269609451294}], [{'label': 'NEGATIVE', 'score': 0.999314546585083}], [{'label': 'NEGATIVE', 'score': 0.7881045937538147}], [{'label': 'NEGATIVE', 'score': 0.9996392726898193}], [{'label': 'POSITIVE', 'score': 0.9997120499610901}], [{'label': 'NEGATIVE', 'score': 0.9994151592254639}], [{'label': 'POSITIVE', 'score': 0.9998359680175781}], [{'label': 'POSITIVE', 'score': 0.9998261332511902}], [{'label': 'NEGATIVE', 'score': 0.9929502010345459}], [{'label': 'POSITIVE', 'score': 0.9989545345306396}], [{'label': 'POSITIVE', 'score': 0.9995112419128418}], [{'label': 'NEGATIVE', 'score': 0.9997914433479309}], [{'label': 'POSITIVE', 'score': 0.9992142915725708}], [{'label': 'POSITIVE', 'score': 0.9865143895149231}], [{'label': 'NEGATIVE', 'score': 0.9438121318817139}], [{'label': 'POSITIVE', 'score': 0.9990057349205017}], [{'label': 'POSITIVE', 'score': 0.9991588592529297}], [{'label': 'NEGATIVE', 'score': 0.9921831488609314}], [{'label': 'POSITIVE', 'score': 0.9992585778236389}], [{'label': 'POSITIVE', 'score': 0.9337486028671265}], [{'label': 'POSITIVE', 'score': 0.9891601204872131}], [{'label': 'POSITIVE', 'score': 0.99958735704422}], [{'label': 'NEGATIVE', 'score': 0.9996594190597534}], [{'label': 'NEGATIVE', 'score': 0.9988177418708801}], [{'label': 'POSITIVE', 'score': 0.9904424548149109}], [{'label': 'POSITIVE', 'score': 0.9997339844703674}], [{'label': 'NEGATIVE', 'score': 0.9967309236526489}], [{'label': 'NEGATIVE', 'score': 0.9997603297233582}], [{'label': 'NEGATIVE', 'score': 0.9996016621589661}], [{'label': 'POSITIVE', 'score': 0.9806466102600098}], [{'label': 'NEGATIVE', 'score': 0.9441129565238953}], [{'label': 'NEGATIVE', 'score': 0.9996424913406372}], [{'label': 'NEGATIVE', 'score': 0.9996351003646851}], [{'label': 'POSITIVE', 'score': 0.969092607498169}], [{'label': 'NEGATIVE', 'score': 0.9995589852333069}], [{'label': 'POSITIVE', 'score': 0.99915611743927}], [{'label': 'NEGATIVE', 'score': 0.9954441785812378}], [{'label': 'NEGATIVE', 'score': 0.999553382396698}], [{'label': 'NEGATIVE', 'score': 0.9997005462646484}], [{'label': 'NEGATIVE', 'score': 0.9867607355117798}], [{'label': 'POSITIVE', 'score': 0.9964112639427185}], [{'label': 'NEGATIVE', 'score': 0.9975360631942749}], [{'label': 'NEGATIVE', 'score': 0.9986600875854492}], [{'label': 'NEGATIVE', 'score': 0.9995748400688171}], [{'label': 'POSITIVE', 'score': 0.9966028928756714}], [{'label': 'POSITIVE', 'score': 0.9998643398284912}], [{'label': 'NEGATIVE', 'score': 0.999346911907196}], [{'label': 'POSITIVE', 'score': 0.9885528087615967}], [{'label': 'POSITIVE', 'score': 0.6324620246887207}], [{'label': 'POSITIVE', 'score': 0.9872845411300659}], [{'label': 'POSITIVE', 'score': 0.9998251795768738}], [{'label': 'NEGATIVE', 'score': 0.9959686994552612}], [{'label': 'NEGATIVE', 'score': 0.9967632293701172}], [{'label': 'POSITIVE', 'score': 0.9805514812469482}], [{'label': 'NEGATIVE', 'score': 0.999776303768158}], [{'label': 'NEGATIVE', 'score': 0.965692400932312}], [{'label': 'POSITIVE', 'score': 0.9857977032661438}], [{'label': 'POSITIVE', 'score': 0.7742076516151428}], [{'label': 'POSITIVE', 'score': 0.9993447661399841}], [{'label': 'NEGATIVE', 'score': 0.9997617602348328}], [{'label': 'POSITIVE', 'score': 0.9985107779502869}], [{'label': 'NEGATIVE', 'score': 0.9996242523193359}], [{'label': 'NEGATIVE', 'score': 0.9966553449630737}], [{'label': 'NEGATIVE', 'score': 0.9993962049484253}], [{'label': 'POSITIVE', 'score': 0.9967431426048279}], [{'label': 'POSITIVE', 'score': 0.9982755184173584}], [{'label': 'NEGATIVE', 'score': 0.9891125559806824}], [{'label': 'NEGATIVE', 'score': 0.9998239874839783}], [{'label': 'NEGATIVE', 'score': 0.9994428753852844}], [{'label': 'POSITIVE', 'score': 0.998916506767273}], [{'label': 'NEGATIVE', 'score': 0.9984070658683777}], [{'label': 'NEGATIVE', 'score': 0.6365661025047302}], [{'label': 'NEGATIVE', 'score': 0.9987099170684814}], [{'label': 'NEGATIVE', 'score': 0.9996793270111084}], [{'label': 'POSITIVE', 'score': 0.9997000694274902}], [{'label': 'POSITIVE', 'score': 0.9994742274284363}], [{'label': 'NEGATIVE', 'score': 0.9991243481636047}], [{'label': 'NEGATIVE', 'score': 0.9987433552742004}], [{'label': 'NEGATIVE', 'score': 0.9702044725418091}], [{'label': 'POSITIVE', 'score': 0.9677276611328125}], [{'label': 'NEGATIVE', 'score': 0.997063934803009}], [{'label': 'NEGATIVE', 'score': 0.9869701862335205}], [{'label': 'NEGATIVE', 'score': 0.9992313385009766}], [{'label': 'NEGATIVE', 'score': 0.9996455907821655}], [{'label': 'POSITIVE', 'score': 0.9830775856971741}], [{'label': 'POSITIVE', 'score': 0.9952424764633179}], [{'label': 'POSITIVE', 'score': 0.9209417700767517}], [{'label': 'POSITIVE', 'score': 0.9745221734046936}], [{'label': 'POSITIVE', 'score': 0.9992877840995789}], [{'label': 'POSITIVE', 'score': 0.9996005892753601}], [{'label': 'POSITIVE', 'score': 0.9998562335968018}], [{'label': 'NEGATIVE', 'score': 0.9987555742263794}], [{'label': 'NEGATIVE', 'score': 0.9813874959945679}]]\n"
     ]
    }
   ],
   "source": [
    "print(predictions)"
   ]
  },
  {
   "cell_type": "code",
   "execution_count": 10,
   "metadata": {
    "id": "itVfplWCowAG"
   },
   "outputs": [],
   "source": [
    "predict = []\n",
    "for k in range(len(predictions)):\n",
    "  predict.append(1 if predictions[k][0]['label'] == 'POSITIVE' else 0)\n",
    "  #predictions[k][0]['label']\n",
    "#predict = [1 if predictions[0]['label'] == 'POSITIVE' else 0 for prediction in predictions]\n"
   ]
  },
  {
   "cell_type": "code",
   "execution_count": 11,
   "metadata": {
    "colab": {
     "base_uri": "https://localhost:8080/"
    },
    "id": "8G55NKl4qG69",
    "outputId": "af283894-d6b9-4b6d-ee62-441938f61061"
   },
   "outputs": [
    {
     "name": "stdout",
     "output_type": "stream",
     "text": [
      "[0, 0, 0, 0, 0, 1, 1, 0, 1, 1, 0, 0, 1, 0, 0, 1, 1, 0, 0, 0, 1, 0, 1, 0, 1, 1, 1, 1, 0, 0, 1, 1, 0, 1, 0, 0, 0, 0, 0, 0, 0, 0, 1, 0, 1, 1, 0, 0, 1, 0, 1, 0, 1, 0, 1, 0, 0, 1, 1, 1, 1, 1, 0, 1, 1, 1, 0, 0, 0, 0, 0, 0, 1, 0, 0, 0, 0, 1, 0, 0, 1, 0, 1, 0, 1, 1, 0, 0, 0, 1, 1, 1, 1, 1, 1, 1, 1, 0, 0, 0, 1, 0, 1, 0, 0, 0, 0, 0, 0, 1, 0, 1, 1, 1, 0, 1, 0, 1, 0, 0, 0, 1, 1, 0, 0, 0, 0, 1, 0, 0, 0, 0, 0, 0, 1, 0, 0, 1, 0, 0, 0, 1, 1, 0, 0, 0, 1, 1, 0, 0, 0, 1, 0, 1, 0, 1, 1, 1, 1, 1, 1, 1, 1, 0, 0, 1, 1, 0, 1, 1, 1, 1, 0, 0, 1, 1, 1, 1, 0, 1, 0, 1, 1, 1, 1, 0, 1, 1, 1, 1, 0, 0, 0, 1, 1, 0, 0, 0, 1, 0, 0, 1, 0, 0, 0, 1, 0, 1, 0, 0, 1, 0, 0, 1, 1, 0, 1, 0, 1, 1, 1, 1, 0, 1, 0, 1, 0, 1, 1, 1, 1, 1, 1, 0, 0, 0, 0, 1, 1, 0, 0, 1, 1, 1, 0, 0, 0, 0, 0, 1, 0, 1, 0, 1, 0, 0, 1, 0, 1, 1, 0, 1, 0, 0, 1, 1, 0, 0, 0, 1, 0, 1, 1, 0, 1, 1, 0, 1, 0, 1, 0, 0, 0, 0, 0, 0, 0, 1, 1, 0, 1, 0, 1, 0, 0, 1, 1, 1, 1, 0, 0, 0, 1, 0, 0, 0, 0, 0, 1, 0, 0, 1, 0, 1, 1, 0, 0, 0, 0, 1, 1, 0, 0, 0, 1, 0, 0, 0, 1, 0, 0, 0, 1, 0, 0, 1, 1, 1, 1, 0, 1, 1, 0, 0, 1, 1, 0, 0, 1, 0, 0, 1, 0, 0, 1, 1, 1, 0, 0, 1, 0, 0, 0, 0, 1, 1, 0, 1, 0, 0, 1, 0, 0, 0, 0, 0, 1, 0, 1, 0, 1, 1, 1, 1, 0, 0, 0, 1, 0, 0, 0, 0, 0, 1, 0, 0, 1, 1, 0, 1, 0, 1, 0, 1, 0, 0, 0, 1, 0, 0, 0, 1, 0, 1, 1, 0, 1, 1, 0, 1, 1, 0, 1, 1, 0, 1, 1, 1, 1, 0, 0, 1, 1, 0, 0, 0, 1, 0, 0, 0, 1, 0, 1, 0, 0, 0, 0, 1, 0, 0, 0, 1, 1, 0, 1, 1, 1, 1, 0, 0, 1, 0, 0, 1, 1, 1, 0, 1, 0, 0, 0, 1, 1, 0, 0, 0, 1, 0, 0, 0, 0, 1, 1, 0, 0, 0, 1, 0, 0, 0, 0, 1, 1, 1, 1, 1, 1, 1, 0, 0]\n"
     ]
    }
   ],
   "source": [
    "print(predict)"
   ]
  },
  {
   "cell_type": "code",
   "execution_count": 12,
   "metadata": {
    "id": "2xvn62LyqZ2U"
   },
   "outputs": [],
   "source": [
    "true_label = movie['label'][:500].tolist()"
   ]
  },
  {
   "cell_type": "code",
   "execution_count": 13,
   "metadata": {
    "id": "y-I99zam_MDk"
   },
   "outputs": [],
   "source": [
    "def compute_metrics(predictions, labels):\n",
    "    accuracy = accuracy_score(labels, predictions)\n",
    "    precision, recall, f1, _ = precision_recall_fscore_support(labels, predictions, average='weighted')\n",
    "    return {\"accuracy\": accuracy, \"precision\": precision, \"recall\": recall, \"f1\": f1}"
   ]
  },
  {
   "cell_type": "code",
   "execution_count": 14,
   "metadata": {
    "id": "GFvBlanU_iF2"
   },
   "outputs": [],
   "source": [
    "from sklearn.metrics import accuracy_score, precision_recall_fscore_support"
   ]
  },
  {
   "cell_type": "code",
   "execution_count": 15,
   "metadata": {
    "colab": {
     "base_uri": "https://localhost:8080/"
    },
    "id": "nvo3YKiP_UlG",
    "outputId": "8a73d3cb-9f96-41fd-975b-7cbec773cab7"
   },
   "outputs": [
    {
     "data": {
      "text/plain": [
       "{'accuracy': 0.898,\n",
       " 'precision': 0.8988714075938745,\n",
       " 'recall': 0.898,\n",
       " 'f1': 0.8978242022248917}"
      ]
     },
     "execution_count": 15,
     "metadata": {},
     "output_type": "execute_result"
    }
   ],
   "source": [
    "compute_metrics(predict, true_label)"
   ]
  },
  {
   "cell_type": "markdown",
   "metadata": {
    "id": "W3RsoP-aPNwB"
   },
   "source": [
    "Model 2"
   ]
  },
  {
   "cell_type": "code",
   "execution_count": 16,
   "metadata": {
    "id": "5EbnQtAMLcwf"
   },
   "outputs": [],
   "source": [
    "data_james =movie['text'].apply(lambda x: truncate_text(x, 300))"
   ]
  },
  {
   "cell_type": "code",
   "execution_count": 17,
   "metadata": {
    "id": "wrkpng86_b6O"
   },
   "outputs": [],
   "source": [
    "pipe_james = pipeline(\"text-classification\", model=\"JamesH/Movie_review_sentiment_analysis_model\")"
   ]
  },
  {
   "cell_type": "code",
   "execution_count": 18,
   "metadata": {
    "id": "d2sOmLtTA2M6"
   },
   "outputs": [],
   "source": [
    "predictions_james = [pipe_james(text) for text in data_james.iloc[:500]]"
   ]
  },
  {
   "cell_type": "code",
   "execution_count": 19,
   "metadata": {
    "colab": {
     "base_uri": "https://localhost:8080/"
    },
    "id": "C6Iz1F5PBXRF",
    "outputId": "a0076752-3440-4883-c517-2639222efeb2"
   },
   "outputs": [
    {
     "name": "stdout",
     "output_type": "stream",
     "text": [
      "[[{'label': 'NEG', 'score': 0.9546070098876953}], [{'label': 'NEG', 'score': 0.893781840801239}], [{'label': 'NEG', 'score': 0.9702375531196594}], [{'label': 'NEG', 'score': 0.9275022745132446}], [{'label': 'POS', 'score': 0.9775837659835815}], [{'label': 'NEG', 'score': 0.8580195307731628}], [{'label': 'POS', 'score': 0.98969966173172}], [{'label': 'NEG', 'score': 0.9821420907974243}], [{'label': 'POS', 'score': 0.9893149137496948}], [{'label': 'POS', 'score': 0.9877378940582275}], [{'label': 'NEG', 'score': 0.738585889339447}], [{'label': 'NEG', 'score': 0.5809998512268066}], [{'label': 'POS', 'score': 0.9841114282608032}], [{'label': 'NEG', 'score': 0.9648776650428772}], [{'label': 'NEG', 'score': 0.9562328457832336}], [{'label': 'POS', 'score': 0.9881500005722046}], [{'label': 'POS', 'score': 0.9841061234474182}], [{'label': 'NEG', 'score': 0.9771451950073242}], [{'label': 'NEG', 'score': 0.9844017624855042}], [{'label': 'NEG', 'score': 0.9499959945678711}], [{'label': 'POS', 'score': 0.9812120795249939}], [{'label': 'NEG', 'score': 0.9494447112083435}], [{'label': 'POS', 'score': 0.7151057124137878}], [{'label': 'NEG', 'score': 0.980182409286499}], [{'label': 'POS', 'score': 0.9841183423995972}], [{'label': 'POS', 'score': 0.7554898262023926}], [{'label': 'POS', 'score': 0.9825873970985413}], [{'label': 'POS', 'score': 0.6167433857917786}], [{'label': 'NEG', 'score': 0.9610841870307922}], [{'label': 'NEG', 'score': 0.9494219422340393}], [{'label': 'POS', 'score': 0.9851557612419128}], [{'label': 'POS', 'score': 0.9842014908790588}], [{'label': 'NEG', 'score': 0.9632856249809265}], [{'label': 'POS', 'score': 0.9881636500358582}], [{'label': 'NEG', 'score': 0.9853782653808594}], [{'label': 'NEG', 'score': 0.9804445505142212}], [{'label': 'NEG', 'score': 0.9825621843338013}], [{'label': 'NEG', 'score': 0.977803111076355}], [{'label': 'NEG', 'score': 0.9403189420700073}], [{'label': 'NEG', 'score': 0.9826002717018127}], [{'label': 'NEG', 'score': 0.97447669506073}], [{'label': 'NEG', 'score': 0.979816198348999}], [{'label': 'POS', 'score': 0.9888702630996704}], [{'label': 'NEG', 'score': 0.9302767515182495}], [{'label': 'POS', 'score': 0.9848105907440186}], [{'label': 'POS', 'score': 0.9838257431983948}], [{'label': 'POS', 'score': 0.9864805340766907}], [{'label': 'NEG', 'score': 0.9299851059913635}], [{'label': 'POS', 'score': 0.985405445098877}], [{'label': 'POS', 'score': 0.9671900868415833}], [{'label': 'POS', 'score': 0.9844930171966553}], [{'label': 'NEG', 'score': 0.6907119154930115}], [{'label': 'POS', 'score': 0.9780791997909546}], [{'label': 'NEG', 'score': 0.915542721748352}], [{'label': 'POS', 'score': 0.9697425961494446}], [{'label': 'NEG', 'score': 0.9823529124259949}], [{'label': 'NEG', 'score': 0.9813321828842163}], [{'label': 'POS', 'score': 0.9877839684486389}], [{'label': 'POS', 'score': 0.9854685664176941}], [{'label': 'POS', 'score': 0.9889070987701416}], [{'label': 'POS', 'score': 0.9828251004219055}], [{'label': 'POS', 'score': 0.7740316987037659}], [{'label': 'NEG', 'score': 0.9601250886917114}], [{'label': 'POS', 'score': 0.9886950850486755}], [{'label': 'POS', 'score': 0.9855361580848694}], [{'label': 'POS', 'score': 0.9458422660827637}], [{'label': 'NEG', 'score': 0.9696270227432251}], [{'label': 'POS', 'score': 0.9785576462745667}], [{'label': 'NEG', 'score': 0.9805436730384827}], [{'label': 'NEG', 'score': 0.9801904559135437}], [{'label': 'POS', 'score': 0.9827022552490234}], [{'label': 'NEG', 'score': 0.877373456954956}], [{'label': 'POS', 'score': 0.9682227969169617}], [{'label': 'NEG', 'score': 0.9674482345581055}], [{'label': 'NEG', 'score': 0.9687538146972656}], [{'label': 'POS', 'score': 0.9730534553527832}], [{'label': 'NEG', 'score': 0.9805387258529663}], [{'label': 'POS', 'score': 0.9842396974563599}], [{'label': 'NEG', 'score': 0.9669586420059204}], [{'label': 'NEG', 'score': 0.9854082465171814}], [{'label': 'NEG', 'score': 0.9385293126106262}], [{'label': 'NEG', 'score': 0.9729344844818115}], [{'label': 'POS', 'score': 0.9201641082763672}], [{'label': 'NEG', 'score': 0.7505401372909546}], [{'label': 'POS', 'score': 0.9842550754547119}], [{'label': 'POS', 'score': 0.9854122996330261}], [{'label': 'NEG', 'score': 0.978021502494812}], [{'label': 'NEG', 'score': 0.9804437160491943}], [{'label': 'NEG', 'score': 0.927047073841095}], [{'label': 'POS', 'score': 0.9881309270858765}], [{'label': 'POS', 'score': 0.9853341579437256}], [{'label': 'POS', 'score': 0.9895100593566895}], [{'label': 'POS', 'score': 0.9824761152267456}], [{'label': 'POS', 'score': 0.9882899522781372}], [{'label': 'NEG', 'score': 0.6715510487556458}], [{'label': 'POS', 'score': 0.9823670387268066}], [{'label': 'POS', 'score': 0.9871260523796082}], [{'label': 'NEG', 'score': 0.985374927520752}], [{'label': 'NEG', 'score': 0.8564127087593079}], [{'label': 'NEG', 'score': 0.9399904012680054}], [{'label': 'POS', 'score': 0.9865303039550781}], [{'label': 'NEG', 'score': 0.9835825562477112}], [{'label': 'POS', 'score': 0.9873991012573242}], [{'label': 'NEG', 'score': 0.9494209885597229}], [{'label': 'NEG', 'score': 0.9786633253097534}], [{'label': 'NEG', 'score': 0.9238089323043823}], [{'label': 'NEG', 'score': 0.9769221544265747}], [{'label': 'NEG', 'score': 0.970289945602417}], [{'label': 'NEG', 'score': 0.9555193185806274}], [{'label': 'POS', 'score': 0.9345386028289795}], [{'label': 'NEG', 'score': 0.9683382511138916}], [{'label': 'POS', 'score': 0.9839121699333191}], [{'label': 'POS', 'score': 0.9801336526870728}], [{'label': 'POS', 'score': 0.9839817881584167}], [{'label': 'NEG', 'score': 0.9835943579673767}], [{'label': 'NEG', 'score': 0.916174590587616}], [{'label': 'NEG', 'score': 0.9717768430709839}], [{'label': 'POS', 'score': 0.9838518500328064}], [{'label': 'NEG', 'score': 0.9813003540039062}], [{'label': 'NEG', 'score': 0.9827137589454651}], [{'label': 'NEG', 'score': 0.9851102828979492}], [{'label': 'POS', 'score': 0.9831733703613281}], [{'label': 'POS', 'score': 0.9814189672470093}], [{'label': 'NEG', 'score': 0.9753648638725281}], [{'label': 'POS', 'score': 0.9877781271934509}], [{'label': 'NEG', 'score': 0.9864280819892883}], [{'label': 'NEG', 'score': 0.9722679257392883}], [{'label': 'POS', 'score': 0.9867362380027771}], [{'label': 'NEG', 'score': 0.9798945784568787}], [{'label': 'NEG', 'score': 0.9864895343780518}], [{'label': 'NEG', 'score': 0.9765017628669739}], [{'label': 'NEG', 'score': 0.9826161861419678}], [{'label': 'NEG', 'score': 0.958463728427887}], [{'label': 'NEG', 'score': 0.9815225601196289}], [{'label': 'POS', 'score': 0.9503492116928101}], [{'label': 'NEG', 'score': 0.9419204592704773}], [{'label': 'NEG', 'score': 0.9822756052017212}], [{'label': 'POS', 'score': 0.9314784407615662}], [{'label': 'NEG', 'score': 0.9849129319190979}], [{'label': 'NEG', 'score': 0.7674307227134705}], [{'label': 'NEG', 'score': 0.9347187280654907}], [{'label': 'POS', 'score': 0.9434757232666016}], [{'label': 'POS', 'score': 0.9849876761436462}], [{'label': 'NEG', 'score': 0.9741331338882446}], [{'label': 'NEG', 'score': 0.9419487118721008}], [{'label': 'NEG', 'score': 0.8985913395881653}], [{'label': 'POS', 'score': 0.6109285354614258}], [{'label': 'POS', 'score': 0.9864625334739685}], [{'label': 'NEG', 'score': 0.9774734973907471}], [{'label': 'NEG', 'score': 0.9609904885292053}], [{'label': 'NEG', 'score': 0.9482159614562988}], [{'label': 'POS', 'score': 0.9739736318588257}], [{'label': 'NEG', 'score': 0.9840623736381531}], [{'label': 'POS', 'score': 0.9863595366477966}], [{'label': 'NEG', 'score': 0.9747485518455505}], [{'label': 'POS', 'score': 0.8191845417022705}], [{'label': 'POS', 'score': 0.9870296716690063}], [{'label': 'POS', 'score': 0.9888301491737366}], [{'label': 'POS', 'score': 0.9884114861488342}], [{'label': 'POS', 'score': 0.9872180819511414}], [{'label': 'POS', 'score': 0.9873722791671753}], [{'label': 'NEG', 'score': 0.926398515701294}], [{'label': 'POS', 'score': 0.9747642874717712}], [{'label': 'NEG', 'score': 0.9789303541183472}], [{'label': 'NEG', 'score': 0.6539337038993835}], [{'label': 'POS', 'score': 0.9880394339561462}], [{'label': 'NEG', 'score': 0.9384998083114624}], [{'label': 'NEG', 'score': 0.9861996173858643}], [{'label': 'POS', 'score': 0.987324595451355}], [{'label': 'POS', 'score': 0.9882996082305908}], [{'label': 'POS', 'score': 0.7474403977394104}], [{'label': 'NEG', 'score': 0.8125912547111511}], [{'label': 'NEG', 'score': 0.9755349159240723}], [{'label': 'NEG', 'score': 0.6897786259651184}], [{'label': 'POS', 'score': 0.9879561066627502}], [{'label': 'POS', 'score': 0.9872899651527405}], [{'label': 'POS', 'score': 0.9866601228713989}], [{'label': 'POS', 'score': 0.9844707250595093}], [{'label': 'NEG', 'score': 0.9170659780502319}], [{'label': 'POS', 'score': 0.9874969720840454}], [{'label': 'NEG', 'score': 0.9822694659233093}], [{'label': 'NEG', 'score': 0.9479807615280151}], [{'label': 'POS', 'score': 0.9892347455024719}], [{'label': 'NEG', 'score': 0.6594287753105164}], [{'label': 'POS', 'score': 0.9866393208503723}], [{'label': 'NEG', 'score': 0.9783496856689453}], [{'label': 'POS', 'score': 0.9888718724250793}], [{'label': 'POS', 'score': 0.9855961799621582}], [{'label': 'POS', 'score': 0.984296977519989}], [{'label': 'POS', 'score': 0.9888338446617126}], [{'label': 'NEG', 'score': 0.9740687608718872}], [{'label': 'NEG', 'score': 0.9674568176269531}], [{'label': 'NEG', 'score': 0.9715662598609924}], [{'label': 'POS', 'score': 0.9866546392440796}], [{'label': 'POS', 'score': 0.9827035665512085}], [{'label': 'NEG', 'score': 0.9856069087982178}], [{'label': 'NEG', 'score': 0.9754167199134827}], [{'label': 'NEG', 'score': 0.9838783740997314}], [{'label': 'POS', 'score': 0.9816169738769531}], [{'label': 'NEG', 'score': 0.984959065914154}], [{'label': 'NEG', 'score': 0.9507514834403992}], [{'label': 'POS', 'score': 0.9850571751594543}], [{'label': 'NEG', 'score': 0.9756120443344116}], [{'label': 'NEG', 'score': 0.9716342091560364}], [{'label': 'NEG', 'score': 0.9814404249191284}], [{'label': 'POS', 'score': 0.9856891632080078}], [{'label': 'NEG', 'score': 0.9772886633872986}], [{'label': 'POS', 'score': 0.9872108697891235}], [{'label': 'POS', 'score': 0.9414102435112}], [{'label': 'NEG', 'score': 0.9788479804992676}], [{'label': 'POS', 'score': 0.9835904240608215}], [{'label': 'NEG', 'score': 0.9790838360786438}], [{'label': 'NEG', 'score': 0.9839165806770325}], [{'label': 'NEG', 'score': 0.8006721138954163}], [{'label': 'POS', 'score': 0.9872926473617554}], [{'label': 'NEG', 'score': 0.9801386594772339}], [{'label': 'POS', 'score': 0.9888336658477783}], [{'label': 'NEG', 'score': 0.9593925476074219}], [{'label': 'POS', 'score': 0.9836424589157104}], [{'label': 'POS', 'score': 0.973919689655304}], [{'label': 'POS', 'score': 0.9422242045402527}], [{'label': 'POS', 'score': 0.9840022325515747}], [{'label': 'NEG', 'score': 0.9663717150688171}], [{'label': 'POS', 'score': 0.9843204021453857}], [{'label': 'NEG', 'score': 0.9782518148422241}], [{'label': 'POS', 'score': 0.9861257672309875}], [{'label': 'NEG', 'score': 0.5122120380401611}], [{'label': 'POS', 'score': 0.9871461391448975}], [{'label': 'POS', 'score': 0.9819985628128052}], [{'label': 'POS', 'score': 0.9818747043609619}], [{'label': 'POS', 'score': 0.9887101054191589}], [{'label': 'POS', 'score': 0.9873902797698975}], [{'label': 'POS', 'score': 0.9355906844139099}], [{'label': 'POS', 'score': 0.9834327697753906}], [{'label': 'POS', 'score': 0.9697003364562988}], [{'label': 'NEG', 'score': 0.9425911903381348}], [{'label': 'NEG', 'score': 0.9837925434112549}], [{'label': 'POS', 'score': 0.9834970235824585}], [{'label': 'POS', 'score': 0.9857991933822632}], [{'label': 'NEG', 'score': 0.9588510394096375}], [{'label': 'NEG', 'score': 0.9206264019012451}], [{'label': 'POS', 'score': 0.9880808591842651}], [{'label': 'POS', 'score': 0.9856363534927368}], [{'label': 'POS', 'score': 0.9856707453727722}], [{'label': 'NEG', 'score': 0.9515625238418579}], [{'label': 'NEG', 'score': 0.9677829146385193}], [{'label': 'NEG', 'score': 0.9660261869430542}], [{'label': 'POS', 'score': 0.920100212097168}], [{'label': 'NEG', 'score': 0.9686275124549866}], [{'label': 'POS', 'score': 0.987400233745575}], [{'label': 'NEG', 'score': 0.9733816385269165}], [{'label': 'POS', 'score': 0.9873297214508057}], [{'label': 'NEG', 'score': 0.7476600408554077}], [{'label': 'POS', 'score': 0.9877332448959351}], [{'label': 'POS', 'score': 0.987966001033783}], [{'label': 'NEG', 'score': 0.9805388450622559}], [{'label': 'POS', 'score': 0.9866107106208801}], [{'label': 'NEG', 'score': 0.9533225297927856}], [{'label': 'POS', 'score': 0.9861563444137573}], [{'label': 'POS', 'score': 0.9905173182487488}], [{'label': 'NEG', 'score': 0.8477881550788879}], [{'label': 'POS', 'score': 0.9885122776031494}], [{'label': 'NEG', 'score': 0.9834092855453491}], [{'label': 'NEG', 'score': 0.96844482421875}], [{'label': 'POS', 'score': 0.9797911047935486}], [{'label': 'POS', 'score': 0.9898009896278381}], [{'label': 'NEG', 'score': 0.9741138815879822}], [{'label': 'POS', 'score': 0.9677246809005737}], [{'label': 'NEG', 'score': 0.986338198184967}], [{'label': 'POS', 'score': 0.9862322211265564}], [{'label': 'NEG', 'score': 0.9778625965118408}], [{'label': 'NEG', 'score': 0.9497910737991333}], [{'label': 'POS', 'score': 0.9861102104187012}], [{'label': 'NEG', 'score': 0.9387248754501343}], [{'label': 'POS', 'score': 0.9265601634979248}], [{'label': 'POS', 'score': 0.9884979128837585}], [{'label': 'NEG', 'score': 0.9819079041481018}], [{'label': 'POS', 'score': 0.9801620244979858}], [{'label': 'NEG', 'score': 0.9860928654670715}], [{'label': 'POS', 'score': 0.983790934085846}], [{'label': 'NEG', 'score': 0.9282121658325195}], [{'label': 'NEG', 'score': 0.9848568439483643}], [{'label': 'NEG', 'score': 0.98003089427948}], [{'label': 'NEG', 'score': 0.9812452793121338}], [{'label': 'NEG', 'score': 0.9826390743255615}], [{'label': 'NEG', 'score': 0.9845836162567139}], [{'label': 'NEG', 'score': 0.9829826951026917}], [{'label': 'POS', 'score': 0.9853466749191284}], [{'label': 'POS', 'score': 0.9890148043632507}], [{'label': 'NEG', 'score': 0.9679989218711853}], [{'label': 'POS', 'score': 0.9865567088127136}], [{'label': 'POS', 'score': 0.6020360589027405}], [{'label': 'POS', 'score': 0.9864253997802734}], [{'label': 'NEG', 'score': 0.9781938791275024}], [{'label': 'NEG', 'score': 0.9850510358810425}], [{'label': 'POS', 'score': 0.9856067895889282}], [{'label': 'POS', 'score': 0.9825317859649658}], [{'label': 'POS', 'score': 0.985295295715332}], [{'label': 'POS', 'score': 0.9755163788795471}], [{'label': 'NEG', 'score': 0.9546022415161133}], [{'label': 'NEG', 'score': 0.9799574017524719}], [{'label': 'NEG', 'score': 0.9841592311859131}], [{'label': 'POS', 'score': 0.9853353500366211}], [{'label': 'NEG', 'score': 0.9781540632247925}], [{'label': 'NEG', 'score': 0.8694624900817871}], [{'label': 'NEG', 'score': 0.9534351229667664}], [{'label': 'NEG', 'score': 0.9828200340270996}], [{'label': 'NEG', 'score': 0.9685069918632507}], [{'label': 'POS', 'score': 0.9884839653968811}], [{'label': 'POS', 'score': 0.9707573056221008}], [{'label': 'NEG', 'score': 0.9765694737434387}], [{'label': 'POS', 'score': 0.9844321012496948}], [{'label': 'NEG', 'score': 0.9686674475669861}], [{'label': 'POS', 'score': 0.9875844120979309}], [{'label': 'POS', 'score': 0.9891107678413391}], [{'label': 'NEG', 'score': 0.959543764591217}], [{'label': 'POS', 'score': 0.9721094965934753}], [{'label': 'NEG', 'score': 0.9717308282852173}], [{'label': 'NEG', 'score': 0.9725043773651123}], [{'label': 'POS', 'score': 0.990562379360199}], [{'label': 'POS', 'score': 0.9886820316314697}], [{'label': 'NEG', 'score': 0.9555103778839111}], [{'label': 'NEG', 'score': 0.9688512682914734}], [{'label': 'NEG', 'score': 0.9657085537910461}], [{'label': 'POS', 'score': 0.9836102724075317}], [{'label': 'NEG', 'score': 0.9777113795280457}], [{'label': 'NEG', 'score': 0.9841194748878479}], [{'label': 'POS', 'score': 0.9839009642601013}], [{'label': 'POS', 'score': 0.9745215177536011}], [{'label': 'NEG', 'score': 0.5863155126571655}], [{'label': 'NEG', 'score': 0.955618679523468}], [{'label': 'NEG', 'score': 0.977963387966156}], [{'label': 'POS', 'score': 0.9881184697151184}], [{'label': 'NEG', 'score': 0.9669092893600464}], [{'label': 'NEG', 'score': 0.974402666091919}], [{'label': 'POS', 'score': 0.9864960312843323}], [{'label': 'POS', 'score': 0.9880942702293396}], [{'label': 'POS', 'score': 0.9849478602409363}], [{'label': 'POS', 'score': 0.9679535627365112}], [{'label': 'NEG', 'score': 0.9838521480560303}], [{'label': 'POS', 'score': 0.9775136709213257}], [{'label': 'POS', 'score': 0.9797331094741821}], [{'label': 'NEG', 'score': 0.9819669723510742}], [{'label': 'NEG', 'score': 0.9831998348236084}], [{'label': 'POS', 'score': 0.9867317080497742}], [{'label': 'POS', 'score': 0.9856051802635193}], [{'label': 'POS', 'score': 0.9830416440963745}], [{'label': 'NEG', 'score': 0.9687918424606323}], [{'label': 'POS', 'score': 0.9842699766159058}], [{'label': 'NEG', 'score': 0.9654703736305237}], [{'label': 'NEG', 'score': 0.9846620559692383}], [{'label': 'POS', 'score': 0.9800223112106323}], [{'label': 'NEG', 'score': 0.9750519394874573}], [{'label': 'NEG', 'score': 0.9664115905761719}], [{'label': 'POS', 'score': 0.9859798550605774}], [{'label': 'POS', 'score': 0.9859462380409241}], [{'label': 'POS', 'score': 0.9764843583106995}], [{'label': 'NEG', 'score': 0.9795072674751282}], [{'label': 'NEG', 'score': 0.9546270966529846}], [{'label': 'POS', 'score': 0.9866612553596497}], [{'label': 'NEG', 'score': 0.8916187882423401}], [{'label': 'NEG', 'score': 0.9846867918968201}], [{'label': 'NEG', 'score': 0.9717822670936584}], [{'label': 'NEG', 'score': 0.9731810092926025}], [{'label': 'POS', 'score': 0.9865911602973938}], [{'label': 'POS', 'score': 0.9768227338790894}], [{'label': 'NEG', 'score': 0.9809117317199707}], [{'label': 'POS', 'score': 0.9848515391349792}], [{'label': 'NEG', 'score': 0.977458655834198}], [{'label': 'NEG', 'score': 0.9838337302207947}], [{'label': 'POS', 'score': 0.9881486296653748}], [{'label': 'NEG', 'score': 0.7673514485359192}], [{'label': 'NEG', 'score': 0.9753642082214355}], [{'label': 'NEG', 'score': 0.982399046421051}], [{'label': 'NEG', 'score': 0.9831189513206482}], [{'label': 'NEG', 'score': 0.9816763401031494}], [{'label': 'POS', 'score': 0.9876574277877808}], [{'label': 'NEG', 'score': 0.9820519089698792}], [{'label': 'POS', 'score': 0.9890367388725281}], [{'label': 'NEG', 'score': 0.9796731472015381}], [{'label': 'POS', 'score': 0.9861910343170166}], [{'label': 'POS', 'score': 0.9853627681732178}], [{'label': 'POS', 'score': 0.9866719841957092}], [{'label': 'POS', 'score': 0.9902951717376709}], [{'label': 'NEG', 'score': 0.9585577249526978}], [{'label': 'NEG', 'score': 0.8830742239952087}], [{'label': 'NEG', 'score': 0.9802337288856506}], [{'label': 'POS', 'score': 0.9863730669021606}], [{'label': 'NEG', 'score': 0.8722000122070312}], [{'label': 'NEG', 'score': 0.972957968711853}], [{'label': 'NEG', 'score': 0.9836747646331787}], [{'label': 'NEG', 'score': 0.978661060333252}], [{'label': 'NEG', 'score': 0.9764677882194519}], [{'label': 'POS', 'score': 0.981842041015625}], [{'label': 'NEG', 'score': 0.9779726266860962}], [{'label': 'NEG', 'score': 0.9696738719940186}], [{'label': 'POS', 'score': 0.987116277217865}], [{'label': 'POS', 'score': 0.9859267473220825}], [{'label': 'POS', 'score': 0.981194794178009}], [{'label': 'POS', 'score': 0.9888046383857727}], [{'label': 'NEG', 'score': 0.9835984706878662}], [{'label': 'POS', 'score': 0.9541557431221008}], [{'label': 'NEG', 'score': 0.9772036075592041}], [{'label': 'POS', 'score': 0.9881529211997986}], [{'label': 'NEG', 'score': 0.94526606798172}], [{'label': 'NEG', 'score': 0.9816867113113403}], [{'label': 'NEG', 'score': 0.6139914393424988}], [{'label': 'POS', 'score': 0.9898809790611267}], [{'label': 'NEG', 'score': 0.9272079467773438}], [{'label': 'POS', 'score': 0.9885329008102417}], [{'label': 'NEG', 'score': 0.9403268694877625}], [{'label': 'POS', 'score': 0.9866895079612732}], [{'label': 'NEG', 'score': 0.9832702875137329}], [{'label': 'POS', 'score': 0.9811397194862366}], [{'label': 'POS', 'score': 0.9864820241928101}], [{'label': 'NEG', 'score': 0.969695508480072}], [{'label': 'POS', 'score': 0.984653890132904}], [{'label': 'POS', 'score': 0.9712828993797302}], [{'label': 'NEG', 'score': 0.8219214081764221}], [{'label': 'POS', 'score': 0.9875667095184326}], [{'label': 'POS', 'score': 0.9586412906646729}], [{'label': 'POS', 'score': 0.5566592216491699}], [{'label': 'POS', 'score': 0.9868234395980835}], [{'label': 'POS', 'score': 0.9803535342216492}], [{'label': 'POS', 'score': 0.8946360945701599}], [{'label': 'POS', 'score': 0.9884114861488342}], [{'label': 'POS', 'score': 0.9831261038780212}], [{'label': 'POS', 'score': 0.9535662531852722}], [{'label': 'POS', 'score': 0.9863916635513306}], [{'label': 'NEG', 'score': 0.9775341749191284}], [{'label': 'NEG', 'score': 0.9757362008094788}], [{'label': 'POS', 'score': 0.9863530397415161}], [{'label': 'POS', 'score': 0.9845495223999023}], [{'label': 'NEG', 'score': 0.9835220575332642}], [{'label': 'NEG', 'score': 0.9685815572738647}], [{'label': 'NEG', 'score': 0.9846782684326172}], [{'label': 'POS', 'score': 0.979235827922821}], [{'label': 'NEG', 'score': 0.9754571914672852}], [{'label': 'NEG', 'score': 0.9845825433731079}], [{'label': 'NEG', 'score': 0.9847077131271362}], [{'label': 'POS', 'score': 0.9782193899154663}], [{'label': 'NEG', 'score': 0.9718732237815857}], [{'label': 'POS', 'score': 0.9877154231071472}], [{'label': 'NEG', 'score': 0.9733063578605652}], [{'label': 'NEG', 'score': 0.979552686214447}], [{'label': 'NEG', 'score': 0.9800174236297607}], [{'label': 'POS', 'score': 0.9797781705856323}], [{'label': 'POS', 'score': 0.9890479445457458}], [{'label': 'NEG', 'score': 0.9743066430091858}], [{'label': 'NEG', 'score': 0.9514626860618591}], [{'label': 'NEG', 'score': 0.9802692532539368}], [{'label': 'POS', 'score': 0.9894870519638062}], [{'label': 'POS', 'score': 0.9872291088104248}], [{'label': 'NEG', 'score': 0.9805975556373596}], [{'label': 'POS', 'score': 0.9810177087783813}], [{'label': 'POS', 'score': 0.7386752963066101}], [{'label': 'NEG', 'score': 0.9316319823265076}], [{'label': 'POS', 'score': 0.984631359577179}], [{'label': 'NEG', 'score': 0.90024733543396}], [{'label': 'NEG', 'score': 0.945207953453064}], [{'label': 'POS', 'score': 0.9545139074325562}], [{'label': 'NEG', 'score': 0.8541208505630493}], [{'label': 'NEG', 'score': 0.9193769693374634}], [{'label': 'POS', 'score': 0.9859099388122559}], [{'label': 'POS', 'score': 0.8984217643737793}], [{'label': 'POS', 'score': 0.9891479015350342}], [{'label': 'NEG', 'score': 0.9419846534729004}], [{'label': 'POS', 'score': 0.9848150014877319}], [{'label': 'NEG', 'score': 0.9786232709884644}], [{'label': 'NEG', 'score': 0.9769299030303955}], [{'label': 'NEG', 'score': 0.9561340808868408}], [{'label': 'POS', 'score': 0.9859187602996826}], [{'label': 'POS', 'score': 0.9760006070137024}], [{'label': 'NEG', 'score': 0.9674791097640991}], [{'label': 'NEG', 'score': 0.9681042432785034}], [{'label': 'NEG', 'score': 0.986304759979248}], [{'label': 'POS', 'score': 0.9848135113716125}], [{'label': 'NEG', 'score': 0.9844059944152832}], [{'label': 'NEG', 'score': 0.6683595776557922}], [{'label': 'NEG', 'score': 0.9611372351646423}], [{'label': 'NEG', 'score': 0.9079247117042542}], [{'label': 'POS', 'score': 0.9890807867050171}], [{'label': 'POS', 'score': 0.9854394197463989}], [{'label': 'NEG', 'score': 0.9604736566543579}], [{'label': 'NEG', 'score': 0.9836145043373108}], [{'label': 'NEG', 'score': 0.8817265629768372}], [{'label': 'POS', 'score': 0.655502200126648}], [{'label': 'NEG', 'score': 0.9739315509796143}], [{'label': 'NEG', 'score': 0.9829624891281128}], [{'label': 'NEG', 'score': 0.9833954572677612}], [{'label': 'NEG', 'score': 0.9352371692657471}], [{'label': 'POS', 'score': 0.9855087399482727}], [{'label': 'POS', 'score': 0.9875094294548035}], [{'label': 'POS', 'score': 0.9864755272865295}], [{'label': 'POS', 'score': 0.9848143458366394}], [{'label': 'POS', 'score': 0.9862608313560486}], [{'label': 'NEG', 'score': 0.5072013139724731}], [{'label': 'POS', 'score': 0.9864844679832458}], [{'label': 'NEG', 'score': 0.9809495806694031}], [{'label': 'POS', 'score': 0.8956239223480225}]]\n"
     ]
    }
   ],
   "source": [
    "print(predictions_james)"
   ]
  },
  {
   "cell_type": "code",
   "execution_count": 20,
   "metadata": {
    "id": "4nZ3wPClCUoB"
   },
   "outputs": [],
   "source": [
    "predict_james = []\n",
    "for k in range(len(predictions_james)):\n",
    "  predict_james.append(1 if predictions_james[k][0]['label'] == 'POSITIVE' else 0)"
   ]
  },
  {
   "cell_type": "code",
   "execution_count": 21,
   "metadata": {
    "id": "eZLad60MMYuy"
   },
   "outputs": [],
   "source": [
    "true_labels = movie['label'][:500].tolist()"
   ]
  },
  {
   "cell_type": "code",
   "execution_count": 22,
   "metadata": {
    "colab": {
     "base_uri": "https://localhost:8080/"
    },
    "id": "1wFNU-jRCjiT",
    "outputId": "ea46c4d7-84f5-46c2-980c-533d1563ed52"
   },
   "outputs": [
    {
     "name": "stderr",
     "output_type": "stream",
     "text": [
      "C:\\Users\\Acer\\AppData\\Roaming\\Python\\Python312\\site-packages\\sklearn\\metrics\\_classification.py:1509: UndefinedMetricWarning: Precision is ill-defined and being set to 0.0 in labels with no predicted samples. Use `zero_division` parameter to control this behavior.\n",
      "  _warn_prf(average, modifier, f\"{metric.capitalize()} is\", len(result))\n"
     ]
    },
    {
     "data": {
      "text/plain": [
       "{'accuracy': 0.52,\n",
       " 'precision': 0.27040000000000003,\n",
       " 'recall': 0.52,\n",
       " 'f1': 0.35578947368421054}"
      ]
     },
     "execution_count": 22,
     "metadata": {},
     "output_type": "execute_result"
    }
   ],
   "source": [
    "compute_metrics(predict_james, true_labels)"
   ]
  },
  {
   "cell_type": "markdown",
   "metadata": {
    "id": "qYJmSIvdPQMa"
   },
   "source": [
    "Model 1 with custom pipeline"
   ]
  },
  {
   "cell_type": "code",
   "execution_count": 23,
   "metadata": {
    "id": "WkFi6f1kCoaC"
   },
   "outputs": [],
   "source": [
    "from transformers import pipeline, AutoTokenizer, AutoModelForSequenceClassification"
   ]
  },
  {
   "cell_type": "code",
   "execution_count": 24,
   "metadata": {
    "id": "DjKSYMWYS_oW"
   },
   "outputs": [],
   "source": [
    "def truncation(text, tokenizer, max_length=200):\n",
    "    encoded_text = tokenizer(text, truncation=True, max_length=max_length, return_tensors='pt')\n",
    "    return tokenizer.decode(encoded_text['input_ids'][0], skip_special_tokens=True)"
   ]
  },
  {
   "cell_type": "code",
   "execution_count": 25,
   "metadata": {
    "id": "9DT30NeNQMwE"
   },
   "outputs": [],
   "source": [
    "tokenizer_dsbert = AutoTokenizer.from_pretrained(\"distilbert/distilbert-base-uncased-finetuned-sst-2-english\")\n",
    "model_dsbert = AutoModelForSequenceClassification.from_pretrained(\"distilbert/distilbert-base-uncased-finetuned-sst-2-english\")\n",
    "sent_pipe_distilbert = pipeline('text-classification', model=model_dsbert, tokenizer=tokenizer_dsbert, truncation=True, max_length=512)"
   ]
  },
  {
   "cell_type": "code",
   "execution_count": 26,
   "metadata": {
    "id": "Z9KO4qQpTHFO"
   },
   "outputs": [],
   "source": [
    "small_text = movie['text'][:1000].apply(lambda x: truncation(x, tokenizer_dsbert))"
   ]
  },
  {
   "cell_type": "code",
   "execution_count": 27,
   "metadata": {
    "id": "NxBXA_KYTJ3g"
   },
   "outputs": [],
   "source": [
    "predictions_dsbert = [sent_pipe_distilbert(text)[0]['label'] for text in small_text]"
   ]
  },
  {
   "cell_type": "code",
   "execution_count": 28,
   "metadata": {
    "id": "ub-aegi0TUfN"
   },
   "outputs": [],
   "source": [
    "predictions_distilbert = [1 if label == 'POSITIVE' else 0 for label in predictions_dsbert]"
   ]
  },
  {
   "cell_type": "code",
   "execution_count": 29,
   "metadata": {
    "id": "VgprBjgkTaZq"
   },
   "outputs": [],
   "source": [
    "true_label_dsbert= movie['label'][:1000].tolist()"
   ]
  },
  {
   "cell_type": "code",
   "execution_count": 30,
   "metadata": {
    "colab": {
     "base_uri": "https://localhost:8080/"
    },
    "id": "yFZadvm6Thy4",
    "outputId": "bec6aa4c-ae07-4bc4-a2d9-4555466648dc"
   },
   "outputs": [
    {
     "name": "stdout",
     "output_type": "stream",
     "text": [
      "DistilBert Pre-trained Metrics:  {'accuracy': 0.867, 'precision': 0.8674045963949369, 'recall': 0.867, 'f1': 0.8668176847179333}\n"
     ]
    }
   ],
   "source": [
    "metrics_distilbert_pretrained = compute_metrics(predictions_distilbert, true_label_dsbert)\n",
    "print(\"DistilBert Pre-trained Metrics: \", metrics_distilbert_pretrained)"
   ]
  },
  {
   "cell_type": "markdown",
   "metadata": {
    "id": "mn-QCA35Tuvw"
   },
   "source": [
    "Model 1 fine tuning"
   ]
  },
  {
   "cell_type": "code",
   "execution_count": 31,
   "metadata": {
    "id": "3dmgoKizPCZF"
   },
   "outputs": [],
   "source": [
    "X,y = train_test_split(movie,test_size = 0.2, random_state = 69)\n",
    "X_sample = X.sample(n = 1000,random_state = 69)\n",
    "y_sample = y.sample(n = 200,random_state = 69)"
   ]
  },
  {
   "cell_type": "code",
   "execution_count": 32,
   "metadata": {
    "id": "u-oOZhisQDTo"
   },
   "outputs": [],
   "source": [
    "X_data = Dataset.from_pandas(X_sample)\n",
    "y_data = Dataset.from_pandas(y_sample)"
   ]
  },
  {
   "cell_type": "code",
   "execution_count": 33,
   "metadata": {
    "id": "wBMr1wu_QKng"
   },
   "outputs": [],
   "source": [
    "main_data = DatasetDict({\n",
    "    'train': X_data,\n",
    "    'test': y_data\n",
    "})"
   ]
  },
  {
   "cell_type": "code",
   "execution_count": 34,
   "metadata": {
    "id": "E1rWFvBiQiQg"
   },
   "outputs": [],
   "source": [
    "def tokeniziation(review, tokenizer):\n",
    "    encoded_text = tokenizer(review['text'], truncation=True, padding='max_length',max_length=200)\n",
    "    return encoded_text"
   ]
  },
  {
   "cell_type": "code",
   "execution_count": 35,
   "metadata": {
    "colab": {
     "base_uri": "https://localhost:8080/",
     "height": 81,
     "referenced_widgets": [
      "1d733d1c91d24b588a3a4b1f695b7c61",
      "84410dc7d8a94fd793c0eefdde3fe3e6",
      "f977f9deb0624361bc212954b4fafc60",
      "f66062c311a946f9845eb2f96c16b0de",
      "ee0a7bda066248fc950d79b6a320f4ec",
      "4c67ad240ed8477a9e6d30f903041729",
      "b0ef05cde5f94431adde46203e154448",
      "fa3f352d485b4d07b54dbd1787906b38",
      "602be1e542e446d5a51bfcf566101d5e",
      "c3b138e5da0e4128ba5a5f8aa9257771",
      "2757ade88611487bb28bd9123d444f83",
      "1e2b16b274ec4969a204df90cbc870ec",
      "04f7587223d1441b84e0aa3bf03e10f0",
      "c08201345c7a49d1a769f244a11ce822",
      "18d363aed2314093bfd0c61aef9bc5e6",
      "6cefbb32c7aa4880ba7e0a9dcbfa67ec",
      "e20667cdfbed4d82bd0eca4e0e79381f",
      "25f315c0b77f48a6afd31f1650111419",
      "34f5af9caa254929a73b05fc2003281d",
      "eb3396dd83014162b32faf0ad908ec56",
      "e1f251956618483e90808113970e66b5",
      "d033d7fdfca04f2691b8262de008d638"
     ]
    },
    "id": "-FE8O6jgRDFS",
    "outputId": "05494a9d-fbed-4177-bf7b-711fd995ff55"
   },
   "outputs": [
    {
     "data": {
      "application/vnd.jupyter.widget-view+json": {
       "model_id": "977e390755ab4aad9294aa32631887f4",
       "version_major": 2,
       "version_minor": 0
      },
      "text/plain": [
       "Map:   0%|          | 0/1000 [00:00<?, ? examples/s]"
      ]
     },
     "metadata": {},
     "output_type": "display_data"
    },
    {
     "data": {
      "application/vnd.jupyter.widget-view+json": {
       "model_id": "da839cac4a8b4cf9ae5ed62f33d7fae9",
       "version_major": 2,
       "version_minor": 0
      },
      "text/plain": [
       "Map:   0%|          | 0/200 [00:00<?, ? examples/s]"
      ]
     },
     "metadata": {},
     "output_type": "display_data"
    }
   ],
   "source": [
    "tokenized_data = main_data.map(lambda x: tokeniziation(x, tokenizer_dsbert), batched=True)"
   ]
  },
  {
   "cell_type": "code",
   "execution_count": 36,
   "metadata": {
    "id": "k22_o4q4ROfX"
   },
   "outputs": [],
   "source": [
    "def compute_metrics_fine(eval_pred):\n",
    "    metric = load_metric(\"accuracy\")\n",
    "    logits, labels = eval_pred\n",
    "    predictions = np.argmax(logits, axis=-1)\n",
    "    return metric.compute(predictions=predictions, references=labels)"
   ]
  },
  {
   "cell_type": "code",
   "execution_count": 37,
   "metadata": {},
   "outputs": [
    {
     "name": "stdout",
     "output_type": "stream",
     "text": [
      "Defaulting to user installation because normal site-packages is not writeable\n",
      "Requirement already satisfied: accelerate in c:\\users\\acer\\appdata\\roaming\\python\\python312\\site-packages (0.30.1)\n",
      "Requirement already satisfied: numpy>=1.17 in c:\\users\\acer\\appdata\\roaming\\python\\python312\\site-packages (from accelerate) (1.26.4)\n",
      "Requirement already satisfied: packaging>=20.0 in c:\\users\\acer\\appdata\\roaming\\python\\python312\\site-packages (from accelerate) (24.0)\n",
      "Requirement already satisfied: psutil in c:\\users\\acer\\appdata\\roaming\\python\\python312\\site-packages (from accelerate) (5.9.8)\n",
      "Requirement already satisfied: pyyaml in c:\\users\\acer\\appdata\\roaming\\python\\python312\\site-packages (from accelerate) (6.0.1)\n",
      "Requirement already satisfied: torch>=1.10.0 in c:\\users\\acer\\appdata\\roaming\\python\\python312\\site-packages (from accelerate) (2.3.0)\n",
      "Requirement already satisfied: huggingface-hub in c:\\users\\acer\\appdata\\roaming\\python\\python312\\site-packages (from accelerate) (0.23.1)\n",
      "Requirement already satisfied: safetensors>=0.3.1 in c:\\users\\acer\\appdata\\roaming\\python\\python312\\site-packages (from accelerate) (0.4.3)\n",
      "Requirement already satisfied: filelock in c:\\users\\acer\\appdata\\roaming\\python\\python312\\site-packages (from torch>=1.10.0->accelerate) (3.14.0)\n",
      "Requirement already satisfied: typing-extensions>=4.8.0 in c:\\users\\acer\\appdata\\roaming\\python\\python312\\site-packages (from torch>=1.10.0->accelerate) (4.11.0)\n",
      "Requirement already satisfied: sympy in c:\\users\\acer\\appdata\\roaming\\python\\python312\\site-packages (from torch>=1.10.0->accelerate) (1.12)\n",
      "Requirement already satisfied: networkx in c:\\users\\acer\\appdata\\roaming\\python\\python312\\site-packages (from torch>=1.10.0->accelerate) (3.3)\n",
      "Requirement already satisfied: jinja2 in c:\\users\\acer\\appdata\\roaming\\python\\python312\\site-packages (from torch>=1.10.0->accelerate) (3.1.4)\n",
      "Requirement already satisfied: fsspec in c:\\users\\acer\\appdata\\roaming\\python\\python312\\site-packages (from torch>=1.10.0->accelerate) (2024.3.1)\n",
      "Requirement already satisfied: mkl<=2021.4.0,>=2021.1.1 in c:\\users\\acer\\appdata\\roaming\\python\\python312\\site-packages (from torch>=1.10.0->accelerate) (2021.4.0)\n",
      "Requirement already satisfied: requests in c:\\users\\acer\\appdata\\roaming\\python\\python312\\site-packages (from huggingface-hub->accelerate) (2.31.0)\n",
      "Requirement already satisfied: tqdm>=4.42.1 in c:\\users\\acer\\appdata\\roaming\\python\\python312\\site-packages (from huggingface-hub->accelerate) (4.66.4)\n",
      "Requirement already satisfied: intel-openmp==2021.* in c:\\users\\acer\\appdata\\roaming\\python\\python312\\site-packages (from mkl<=2021.4.0,>=2021.1.1->torch>=1.10.0->accelerate) (2021.4.0)\n",
      "Requirement already satisfied: tbb==2021.* in c:\\users\\acer\\appdata\\roaming\\python\\python312\\site-packages (from mkl<=2021.4.0,>=2021.1.1->torch>=1.10.0->accelerate) (2021.12.0)\n",
      "Requirement already satisfied: colorama in c:\\users\\acer\\appdata\\roaming\\python\\python312\\site-packages (from tqdm>=4.42.1->huggingface-hub->accelerate) (0.4.6)\n",
      "Requirement already satisfied: MarkupSafe>=2.0 in c:\\users\\acer\\appdata\\roaming\\python\\python312\\site-packages (from jinja2->torch>=1.10.0->accelerate) (2.1.5)\n",
      "Requirement already satisfied: charset-normalizer<4,>=2 in c:\\users\\acer\\appdata\\roaming\\python\\python312\\site-packages (from requests->huggingface-hub->accelerate) (3.3.2)\n",
      "Requirement already satisfied: idna<4,>=2.5 in c:\\users\\acer\\appdata\\roaming\\python\\python312\\site-packages (from requests->huggingface-hub->accelerate) (3.7)\n",
      "Requirement already satisfied: urllib3<3,>=1.21.1 in c:\\users\\acer\\appdata\\roaming\\python\\python312\\site-packages (from requests->huggingface-hub->accelerate) (2.2.1)\n",
      "Requirement already satisfied: certifi>=2017.4.17 in c:\\users\\acer\\appdata\\roaming\\python\\python312\\site-packages (from requests->huggingface-hub->accelerate) (2024.2.2)\n",
      "Requirement already satisfied: mpmath>=0.19 in c:\\users\\acer\\appdata\\roaming\\python\\python312\\site-packages (from sympy->torch>=1.10.0->accelerate) (1.3.0)\n",
      "Note: you may need to restart the kernel to use updated packages.\n"
     ]
    }
   ],
   "source": [
    "pip install accelerate -U"
   ]
  },
  {
   "cell_type": "code",
   "execution_count": 56,
   "metadata": {
    "id": "7qFAzxo8e_q8"
   },
   "outputs": [
    {
     "name": "stderr",
     "output_type": "stream",
     "text": [
      "C:\\Users\\Acer\\AppData\\Roaming\\Python\\Python312\\site-packages\\transformers\\training_args.py:1474: FutureWarning: `evaluation_strategy` is deprecated and will be removed in version 4.46 of 🤗 Transformers. Use `eval_strategy` instead\n",
      "  warnings.warn(\n"
     ]
    }
   ],
   "source": [
    "training_args = TrainingArguments(\n",
    "    output_dir='./results',\n",
    "    num_train_epochs=3,\n",
    "    per_device_train_batch_size=16,\n",
    "    per_device_eval_batch_size=16,\n",
    "    learning_rate = 3e-5,\n",
    "    weight_decay=0.01,\n",
    "    evaluation_strategy=\"epoch\"\n",
    "    )"
   ]
  },
  {
   "cell_type": "code",
   "execution_count": 57,
   "metadata": {
    "id": "PA8PqDGMmVzw"
   },
   "outputs": [],
   "source": [
    "trainer = Trainer(\n",
    "    model=model_dsbert,\n",
    "    args=training_args,\n",
    "    train_dataset=tokenized_data['train'],\n",
    "    eval_dataset=tokenized_data['test'],\n",
    "    compute_metrics=compute_metrics_fine\n",
    ")"
   ]
  },
  {
   "cell_type": "code",
   "execution_count": 58,
   "metadata": {
    "id": "M0GnoebbykYy"
   },
   "outputs": [],
   "source": [
    "from datasets import load_metric"
   ]
  },
  {
   "cell_type": "code",
   "execution_count": 59,
   "metadata": {
    "colab": {
     "base_uri": "https://localhost:8080/",
     "height": 577,
     "referenced_widgets": [
      "43b537b42741448f92fd8494695b52c4",
      "7f90f324ba41400389668214e7badfda",
      "74129ccf51f943cba0c94c935d04860e",
      "3e010a56b5da433ca5faf0cf2b10a99c",
      "1ccbd366fc4a4ddba4dbf4d4c5e73d14",
      "cd540d094e6f48198c653b7d495bb5e5",
      "1213f29982774051b333f8851e7db4dc",
      "dc79ccf280804259b16cdd43368e729e",
      "7ba9447f2b4548e2960491c9b07025de",
      "2ffd9bf9869c4079b3b28ec8a51ce47f",
      "c6b6093cb11f49b4bbf35018bf11d151"
     ]
    },
    "id": "CLTCq4TjtRQw",
    "outputId": "906e0b6a-290d-44da-f06c-93d95a4105e6"
   },
   "outputs": [
    {
     "data": {
      "application/vnd.jupyter.widget-view+json": {
       "model_id": "420feda5e1644a1d9cf4b9129a4f4108",
       "version_major": 2,
       "version_minor": 0
      },
      "text/plain": [
       "  0%|          | 0/189 [00:00<?, ?it/s]"
      ]
     },
     "metadata": {},
     "output_type": "display_data"
    },
    {
     "data": {
      "application/vnd.jupyter.widget-view+json": {
       "model_id": "e58375623a504a5aae96dbfb687df044",
       "version_major": 2,
       "version_minor": 0
      },
      "text/plain": [
       "  0%|          | 0/13 [00:00<?, ?it/s]"
      ]
     },
     "metadata": {},
     "output_type": "display_data"
    },
    {
     "name": "stderr",
     "output_type": "stream",
     "text": [
      "C:\\Users\\Acer\\AppData\\Roaming\\Python\\Python312\\site-packages\\datasets\\load.py:759: FutureWarning: The repository for accuracy contains custom code which must be executed to correctly load the metric. You can inspect the repository content at https://raw.githubusercontent.com/huggingface/datasets/2.19.1/metrics/accuracy/accuracy.py\n",
      "You can avoid this message in future by passing the argument `trust_remote_code=True`.\n",
      "Passing `trust_remote_code=True` will be mandatory to load this metric from the next major release of `datasets`.\n",
      "  warnings.warn(\n"
     ]
    },
    {
     "name": "stdout",
     "output_type": "stream",
     "text": [
      "{'eval_loss': 1.2512491941452026, 'eval_accuracy': 0.805, 'eval_runtime': 10.6949, 'eval_samples_per_second': 18.701, 'eval_steps_per_second': 1.216, 'epoch': 1.0}\n"
     ]
    },
    {
     "data": {
      "application/vnd.jupyter.widget-view+json": {
       "model_id": "68615db48afd4e7dbdbd1d1b0d6ffcdc",
       "version_major": 2,
       "version_minor": 0
      },
      "text/plain": [
       "  0%|          | 0/13 [00:00<?, ?it/s]"
      ]
     },
     "metadata": {},
     "output_type": "display_data"
    },
    {
     "name": "stderr",
     "output_type": "stream",
     "text": [
      "C:\\Users\\Acer\\AppData\\Roaming\\Python\\Python312\\site-packages\\datasets\\load.py:759: FutureWarning: The repository for accuracy contains custom code which must be executed to correctly load the metric. You can inspect the repository content at https://raw.githubusercontent.com/huggingface/datasets/2.19.1/metrics/accuracy/accuracy.py\n",
      "You can avoid this message in future by passing the argument `trust_remote_code=True`.\n",
      "Passing `trust_remote_code=True` will be mandatory to load this metric from the next major release of `datasets`.\n",
      "  warnings.warn(\n"
     ]
    },
    {
     "name": "stdout",
     "output_type": "stream",
     "text": [
      "{'eval_loss': 1.4178787469863892, 'eval_accuracy': 0.815, 'eval_runtime': 10.5046, 'eval_samples_per_second': 19.039, 'eval_steps_per_second': 1.238, 'epoch': 2.0}\n"
     ]
    },
    {
     "data": {
      "application/vnd.jupyter.widget-view+json": {
       "model_id": "6cf455b2ce534914b4decad726f84f3c",
       "version_major": 2,
       "version_minor": 0
      },
      "text/plain": [
       "  0%|          | 0/13 [00:00<?, ?it/s]"
      ]
     },
     "metadata": {},
     "output_type": "display_data"
    },
    {
     "name": "stderr",
     "output_type": "stream",
     "text": [
      "C:\\Users\\Acer\\AppData\\Roaming\\Python\\Python312\\site-packages\\datasets\\load.py:759: FutureWarning: The repository for accuracy contains custom code which must be executed to correctly load the metric. You can inspect the repository content at https://raw.githubusercontent.com/huggingface/datasets/2.19.1/metrics/accuracy/accuracy.py\n",
      "You can avoid this message in future by passing the argument `trust_remote_code=True`.\n",
      "Passing `trust_remote_code=True` will be mandatory to load this metric from the next major release of `datasets`.\n",
      "  warnings.warn(\n"
     ]
    },
    {
     "name": "stdout",
     "output_type": "stream",
     "text": [
      "{'eval_loss': 1.535650372505188, 'eval_accuracy': 0.81, 'eval_runtime': 10.7124, 'eval_samples_per_second': 18.67, 'eval_steps_per_second': 1.214, 'epoch': 3.0}\n",
      "{'train_runtime': 469.2939, 'train_samples_per_second': 6.393, 'train_steps_per_second': 0.403, 'train_loss': 0.027055094481776, 'epoch': 3.0}\n"
     ]
    },
    {
     "data": {
      "text/plain": [
       "TrainOutput(global_step=189, training_loss=0.027055094481776, metrics={'train_runtime': 469.2939, 'train_samples_per_second': 6.393, 'train_steps_per_second': 0.403, 'total_flos': 155235232800000.0, 'train_loss': 0.027055094481776, 'epoch': 3.0})"
      ]
     },
     "execution_count": 59,
     "metadata": {},
     "output_type": "execute_result"
    }
   ],
   "source": [
    "trainer.train()"
   ]
  },
  {
   "cell_type": "code",
   "execution_count": 60,
   "metadata": {
    "colab": {
     "base_uri": "https://localhost:8080/",
     "height": 144
    },
    "id": "zvQJq86NtXo6",
    "outputId": "2d2d08e5-bf5e-4fbb-d90e-022978988714"
   },
   "outputs": [
    {
     "data": {
      "application/vnd.jupyter.widget-view+json": {
       "model_id": "c4daad95b7c24cf9b34ef3c97b82db8c",
       "version_major": 2,
       "version_minor": 0
      },
      "text/plain": [
       "  0%|          | 0/13 [00:00<?, ?it/s]"
      ]
     },
     "metadata": {},
     "output_type": "display_data"
    },
    {
     "name": "stderr",
     "output_type": "stream",
     "text": [
      "C:\\Users\\Acer\\AppData\\Roaming\\Python\\Python312\\site-packages\\datasets\\load.py:759: FutureWarning: The repository for accuracy contains custom code which must be executed to correctly load the metric. You can inspect the repository content at https://raw.githubusercontent.com/huggingface/datasets/2.19.1/metrics/accuracy/accuracy.py\n",
      "You can avoid this message in future by passing the argument `trust_remote_code=True`.\n",
      "Passing `trust_remote_code=True` will be mandatory to load this metric from the next major release of `datasets`.\n",
      "  warnings.warn(\n"
     ]
    },
    {
     "name": "stdout",
     "output_type": "stream",
     "text": [
      "{'eval_loss': 1.535650372505188, 'eval_accuracy': 0.81, 'eval_runtime': 10.2063, 'eval_samples_per_second': 19.596, 'eval_steps_per_second': 1.274, 'epoch': 3.0}\n"
     ]
    }
   ],
   "source": [
    "metrics = trainer.evaluate()\n",
    "print(metrics)"
   ]
  },
  {
   "cell_type": "markdown",
   "metadata": {},
   "source": [
    "model 2 with custom pipeline and then fine tuning"
   ]
  },
  {
   "cell_type": "code",
   "execution_count": 43,
   "metadata": {
    "id": "_PijsueqxLWW"
   },
   "outputs": [],
   "source": [
    "tokenizer_james = AutoTokenizer.from_pretrained(\"JamesH/Movie_review_sentiment_analysis_model\")\n",
    "model_james = AutoModelForSequenceClassification.from_pretrained(\"JamesH/Movie_review_sentiment_analysis_model\")\n",
    "sent_pipe_james = pipeline('text-classification', model=model_james, tokenizer=tokenizer_james, truncation=True, max_length=512)"
   ]
  },
  {
   "cell_type": "code",
   "execution_count": 44,
   "metadata": {},
   "outputs": [],
   "source": [
    "small_text_james = movie['text'][:1000].apply(lambda x: truncation(x, tokenizer_james))"
   ]
  },
  {
   "cell_type": "code",
   "execution_count": 45,
   "metadata": {},
   "outputs": [],
   "source": [
    "predictions_james = [sent_pipe_james(text)[0]['label'] for text in small_text_james]"
   ]
  },
  {
   "cell_type": "code",
   "execution_count": 46,
   "metadata": {},
   "outputs": [],
   "source": [
    "predictions_james_num = [1 if label == 'POSITIVE' else 0 for label in predictions_james]"
   ]
  },
  {
   "cell_type": "code",
   "execution_count": 47,
   "metadata": {},
   "outputs": [
    {
     "name": "stdout",
     "output_type": "stream",
     "text": [
      "James Pre-trained Metrics:  {'accuracy': 0.522, 'precision': 0.27248400000000006, 'recall': 0.522, 'f1': 0.3580604467805519}\n"
     ]
    },
    {
     "name": "stderr",
     "output_type": "stream",
     "text": [
      "C:\\Users\\Acer\\AppData\\Roaming\\Python\\Python312\\site-packages\\sklearn\\metrics\\_classification.py:1509: UndefinedMetricWarning: Precision is ill-defined and being set to 0.0 in labels with no predicted samples. Use `zero_division` parameter to control this behavior.\n",
      "  _warn_prf(average, modifier, f\"{metric.capitalize()} is\", len(result))\n"
     ]
    }
   ],
   "source": [
    "metrics_james_pretrained = compute_metrics(predictions_james_num, true_label_dsbert)\n",
    "print(\"James Pre-trained Metrics: \", metrics_james_pretrained)"
   ]
  },
  {
   "cell_type": "markdown",
   "metadata": {},
   "source": [
    "fine tuning 2nd model"
   ]
  },
  {
   "cell_type": "code",
   "execution_count": 48,
   "metadata": {},
   "outputs": [
    {
     "data": {
      "application/vnd.jupyter.widget-view+json": {
       "model_id": "9fd6615494e14819bf5731d5ea56bbc0",
       "version_major": 2,
       "version_minor": 0
      },
      "text/plain": [
       "Map:   0%|          | 0/1000 [00:00<?, ? examples/s]"
      ]
     },
     "metadata": {},
     "output_type": "display_data"
    },
    {
     "data": {
      "application/vnd.jupyter.widget-view+json": {
       "model_id": "24d902a4ef774cb7a7c92dd3bc54265a",
       "version_major": 2,
       "version_minor": 0
      },
      "text/plain": [
       "Map:   0%|          | 0/200 [00:00<?, ? examples/s]"
      ]
     },
     "metadata": {},
     "output_type": "display_data"
    }
   ],
   "source": [
    "tokenized_data_james = main_data.map(lambda x: tokeniziation(x, tokenizer_james), batched=True)"
   ]
  },
  {
   "cell_type": "code",
   "execution_count": 49,
   "metadata": {},
   "outputs": [],
   "source": [
    "trainer_james = Trainer(\n",
    "    model=model_james,\n",
    "    args=training_args,\n",
    "    train_dataset=tokenized_data_james['train'],\n",
    "    eval_dataset=tokenized_data_james['test'],\n",
    "    compute_metrics=compute_metrics_fine\n",
    ")"
   ]
  },
  {
   "cell_type": "code",
   "execution_count": 50,
   "metadata": {},
   "outputs": [
    {
     "data": {
      "application/vnd.jupyter.widget-view+json": {
       "model_id": "d7c5a467fd6e44c6955966af2d0ad45f",
       "version_major": 2,
       "version_minor": 0
      },
      "text/plain": [
       "  0%|          | 0/189 [00:00<?, ?it/s]"
      ]
     },
     "metadata": {},
     "output_type": "display_data"
    },
    {
     "data": {
      "application/vnd.jupyter.widget-view+json": {
       "model_id": "c7e7c59f81df4659a1020849006d7293",
       "version_major": 2,
       "version_minor": 0
      },
      "text/plain": [
       "  0%|          | 0/13 [00:00<?, ?it/s]"
      ]
     },
     "metadata": {},
     "output_type": "display_data"
    },
    {
     "name": "stderr",
     "output_type": "stream",
     "text": [
      "C:\\Users\\Acer\\AppData\\Roaming\\Python\\Python312\\site-packages\\datasets\\load.py:759: FutureWarning: The repository for accuracy contains custom code which must be executed to correctly load the metric. You can inspect the repository content at https://raw.githubusercontent.com/huggingface/datasets/2.19.1/metrics/accuracy/accuracy.py\n",
      "You can avoid this message in future by passing the argument `trust_remote_code=True`.\n",
      "Passing `trust_remote_code=True` will be mandatory to load this metric from the next major release of `datasets`.\n",
      "  warnings.warn(\n"
     ]
    },
    {
     "name": "stdout",
     "output_type": "stream",
     "text": [
      "{'eval_loss': 0.36187148094177246, 'eval_accuracy': 0.895, 'eval_runtime': 24.1099, 'eval_samples_per_second': 8.295, 'eval_steps_per_second': 0.539, 'epoch': 1.0}\n"
     ]
    },
    {
     "data": {
      "application/vnd.jupyter.widget-view+json": {
       "model_id": "503fe34d8228433aab23b5b939faa085",
       "version_major": 2,
       "version_minor": 0
      },
      "text/plain": [
       "  0%|          | 0/13 [00:00<?, ?it/s]"
      ]
     },
     "metadata": {},
     "output_type": "display_data"
    },
    {
     "name": "stderr",
     "output_type": "stream",
     "text": [
      "C:\\Users\\Acer\\AppData\\Roaming\\Python\\Python312\\site-packages\\datasets\\load.py:759: FutureWarning: The repository for accuracy contains custom code which must be executed to correctly load the metric. You can inspect the repository content at https://raw.githubusercontent.com/huggingface/datasets/2.19.1/metrics/accuracy/accuracy.py\n",
      "You can avoid this message in future by passing the argument `trust_remote_code=True`.\n",
      "Passing `trust_remote_code=True` will be mandatory to load this metric from the next major release of `datasets`.\n",
      "  warnings.warn(\n"
     ]
    },
    {
     "name": "stdout",
     "output_type": "stream",
     "text": [
      "{'eval_loss': 0.42379772663116455, 'eval_accuracy': 0.89, 'eval_runtime': 24.7209, 'eval_samples_per_second': 8.09, 'eval_steps_per_second': 0.526, 'epoch': 2.0}\n"
     ]
    },
    {
     "data": {
      "application/vnd.jupyter.widget-view+json": {
       "model_id": "53214d4187e5402386de5bb39ab83a64",
       "version_major": 2,
       "version_minor": 0
      },
      "text/plain": [
       "  0%|          | 0/13 [00:00<?, ?it/s]"
      ]
     },
     "metadata": {},
     "output_type": "display_data"
    },
    {
     "name": "stderr",
     "output_type": "stream",
     "text": [
      "C:\\Users\\Acer\\AppData\\Roaming\\Python\\Python312\\site-packages\\datasets\\load.py:759: FutureWarning: The repository for accuracy contains custom code which must be executed to correctly load the metric. You can inspect the repository content at https://raw.githubusercontent.com/huggingface/datasets/2.19.1/metrics/accuracy/accuracy.py\n",
      "You can avoid this message in future by passing the argument `trust_remote_code=True`.\n",
      "Passing `trust_remote_code=True` will be mandatory to load this metric from the next major release of `datasets`.\n",
      "  warnings.warn(\n"
     ]
    },
    {
     "name": "stdout",
     "output_type": "stream",
     "text": [
      "{'eval_loss': 0.48442450165748596, 'eval_accuracy': 0.885, 'eval_runtime': 25.0138, 'eval_samples_per_second': 7.996, 'eval_steps_per_second': 0.52, 'epoch': 3.0}\n",
      "{'train_runtime': 1335.9152, 'train_samples_per_second': 2.246, 'train_steps_per_second': 0.141, 'train_loss': 0.17187736147925967, 'epoch': 3.0}\n"
     ]
    },
    {
     "data": {
      "text/plain": [
       "TrainOutput(global_step=189, training_loss=0.17187736147925967, metrics={'train_runtime': 1335.9152, 'train_samples_per_second': 2.246, 'train_steps_per_second': 0.141, 'total_flos': 308338797600000.0, 'train_loss': 0.17187736147925967, 'epoch': 3.0})"
      ]
     },
     "execution_count": 50,
     "metadata": {},
     "output_type": "execute_result"
    }
   ],
   "source": [
    "trainer_james.train()"
   ]
  },
  {
   "cell_type": "code",
   "execution_count": 51,
   "metadata": {},
   "outputs": [
    {
     "data": {
      "application/vnd.jupyter.widget-view+json": {
       "model_id": "33a6ff0ae3ed4e1080a0e1b5b96e75eb",
       "version_major": 2,
       "version_minor": 0
      },
      "text/plain": [
       "  0%|          | 0/13 [00:00<?, ?it/s]"
      ]
     },
     "metadata": {},
     "output_type": "display_data"
    },
    {
     "name": "stderr",
     "output_type": "stream",
     "text": [
      "C:\\Users\\Acer\\AppData\\Roaming\\Python\\Python312\\site-packages\\datasets\\load.py:759: FutureWarning: The repository for accuracy contains custom code which must be executed to correctly load the metric. You can inspect the repository content at https://raw.githubusercontent.com/huggingface/datasets/2.19.1/metrics/accuracy/accuracy.py\n",
      "You can avoid this message in future by passing the argument `trust_remote_code=True`.\n",
      "Passing `trust_remote_code=True` will be mandatory to load this metric from the next major release of `datasets`.\n",
      "  warnings.warn(\n"
     ]
    },
    {
     "name": "stdout",
     "output_type": "stream",
     "text": [
      "{'eval_loss': 0.48442450165748596, 'eval_accuracy': 0.885, 'eval_runtime': 25.0367, 'eval_samples_per_second': 7.988, 'eval_steps_per_second': 0.519, 'epoch': 3.0}\n"
     ]
    }
   ],
   "source": [
    "metrics_james = trainer_james.evaluate()\n",
    "print(metrics_james)"
   ]
  },
  {
   "cell_type": "code",
   "execution_count": null,
   "metadata": {},
   "outputs": [],
   "source": []
  }
 ],
 "metadata": {
  "accelerator": "GPU",
  "colab": {
   "gpuType": "T4",
   "provenance": []
  },
  "kernelspec": {
   "display_name": "Python 3 (ipykernel)",
   "language": "python",
   "name": "python3"
  },
  "language_info": {
   "codemirror_mode": {
    "name": "ipython",
    "version": 3
   },
   "file_extension": ".py",
   "mimetype": "text/x-python",
   "name": "python",
   "nbconvert_exporter": "python",
   "pygments_lexer": "ipython3",
   "version": "3.12.3"
  },
  "widgets": {
   "application/vnd.jupyter.widget-state+json": {
    "04f7587223d1441b84e0aa3bf03e10f0": {
     "model_module": "@jupyter-widgets/controls",
     "model_module_version": "1.5.0",
     "model_name": "HTMLModel",
     "state": {
      "_dom_classes": [],
      "_model_module": "@jupyter-widgets/controls",
      "_model_module_version": "1.5.0",
      "_model_name": "HTMLModel",
      "_view_count": null,
      "_view_module": "@jupyter-widgets/controls",
      "_view_module_version": "1.5.0",
      "_view_name": "HTMLView",
      "description": "",
      "description_tooltip": null,
      "layout": "IPY_MODEL_e20667cdfbed4d82bd0eca4e0e79381f",
      "placeholder": "​",
      "style": "IPY_MODEL_25f315c0b77f48a6afd31f1650111419",
      "value": "Map: 100%"
     }
    },
    "1213f29982774051b333f8851e7db4dc": {
     "model_module": "@jupyter-widgets/controls",
     "model_module_version": "1.5.0",
     "model_name": "DescriptionStyleModel",
     "state": {
      "_model_module": "@jupyter-widgets/controls",
      "_model_module_version": "1.5.0",
      "_model_name": "DescriptionStyleModel",
      "_view_count": null,
      "_view_module": "@jupyter-widgets/base",
      "_view_module_version": "1.2.0",
      "_view_name": "StyleView",
      "description_width": ""
     }
    },
    "18d363aed2314093bfd0c61aef9bc5e6": {
     "model_module": "@jupyter-widgets/controls",
     "model_module_version": "1.5.0",
     "model_name": "HTMLModel",
     "state": {
      "_dom_classes": [],
      "_model_module": "@jupyter-widgets/controls",
      "_model_module_version": "1.5.0",
      "_model_name": "HTMLModel",
      "_view_count": null,
      "_view_module": "@jupyter-widgets/controls",
      "_view_module_version": "1.5.0",
      "_view_name": "HTMLView",
      "description": "",
      "description_tooltip": null,
      "layout": "IPY_MODEL_e1f251956618483e90808113970e66b5",
      "placeholder": "​",
      "style": "IPY_MODEL_d033d7fdfca04f2691b8262de008d638",
      "value": " 200/200 [00:00&lt;00:00, 605.29 examples/s]"
     }
    },
    "1ccbd366fc4a4ddba4dbf4d4c5e73d14": {
     "model_module": "@jupyter-widgets/base",
     "model_module_version": "1.2.0",
     "model_name": "LayoutModel",
     "state": {
      "_model_module": "@jupyter-widgets/base",
      "_model_module_version": "1.2.0",
      "_model_name": "LayoutModel",
      "_view_count": null,
      "_view_module": "@jupyter-widgets/base",
      "_view_module_version": "1.2.0",
      "_view_name": "LayoutView",
      "align_content": null,
      "align_items": null,
      "align_self": null,
      "border": null,
      "bottom": null,
      "display": null,
      "flex": null,
      "flex_flow": null,
      "grid_area": null,
      "grid_auto_columns": null,
      "grid_auto_flow": null,
      "grid_auto_rows": null,
      "grid_column": null,
      "grid_gap": null,
      "grid_row": null,
      "grid_template_areas": null,
      "grid_template_columns": null,
      "grid_template_rows": null,
      "height": null,
      "justify_content": null,
      "justify_items": null,
      "left": null,
      "margin": null,
      "max_height": null,
      "max_width": null,
      "min_height": null,
      "min_width": null,
      "object_fit": null,
      "object_position": null,
      "order": null,
      "overflow": null,
      "overflow_x": null,
      "overflow_y": null,
      "padding": null,
      "right": null,
      "top": null,
      "visibility": null,
      "width": null
     }
    },
    "1d733d1c91d24b588a3a4b1f695b7c61": {
     "model_module": "@jupyter-widgets/controls",
     "model_module_version": "1.5.0",
     "model_name": "HBoxModel",
     "state": {
      "_dom_classes": [],
      "_model_module": "@jupyter-widgets/controls",
      "_model_module_version": "1.5.0",
      "_model_name": "HBoxModel",
      "_view_count": null,
      "_view_module": "@jupyter-widgets/controls",
      "_view_module_version": "1.5.0",
      "_view_name": "HBoxView",
      "box_style": "",
      "children": [
       "IPY_MODEL_84410dc7d8a94fd793c0eefdde3fe3e6",
       "IPY_MODEL_f977f9deb0624361bc212954b4fafc60",
       "IPY_MODEL_f66062c311a946f9845eb2f96c16b0de"
      ],
      "layout": "IPY_MODEL_ee0a7bda066248fc950d79b6a320f4ec"
     }
    },
    "1e2b16b274ec4969a204df90cbc870ec": {
     "model_module": "@jupyter-widgets/controls",
     "model_module_version": "1.5.0",
     "model_name": "HBoxModel",
     "state": {
      "_dom_classes": [],
      "_model_module": "@jupyter-widgets/controls",
      "_model_module_version": "1.5.0",
      "_model_name": "HBoxModel",
      "_view_count": null,
      "_view_module": "@jupyter-widgets/controls",
      "_view_module_version": "1.5.0",
      "_view_name": "HBoxView",
      "box_style": "",
      "children": [
       "IPY_MODEL_04f7587223d1441b84e0aa3bf03e10f0",
       "IPY_MODEL_c08201345c7a49d1a769f244a11ce822",
       "IPY_MODEL_18d363aed2314093bfd0c61aef9bc5e6"
      ],
      "layout": "IPY_MODEL_6cefbb32c7aa4880ba7e0a9dcbfa67ec"
     }
    },
    "25f315c0b77f48a6afd31f1650111419": {
     "model_module": "@jupyter-widgets/controls",
     "model_module_version": "1.5.0",
     "model_name": "DescriptionStyleModel",
     "state": {
      "_model_module": "@jupyter-widgets/controls",
      "_model_module_version": "1.5.0",
      "_model_name": "DescriptionStyleModel",
      "_view_count": null,
      "_view_module": "@jupyter-widgets/base",
      "_view_module_version": "1.2.0",
      "_view_name": "StyleView",
      "description_width": ""
     }
    },
    "2757ade88611487bb28bd9123d444f83": {
     "model_module": "@jupyter-widgets/controls",
     "model_module_version": "1.5.0",
     "model_name": "DescriptionStyleModel",
     "state": {
      "_model_module": "@jupyter-widgets/controls",
      "_model_module_version": "1.5.0",
      "_model_name": "DescriptionStyleModel",
      "_view_count": null,
      "_view_module": "@jupyter-widgets/base",
      "_view_module_version": "1.2.0",
      "_view_name": "StyleView",
      "description_width": ""
     }
    },
    "2ffd9bf9869c4079b3b28ec8a51ce47f": {
     "model_module": "@jupyter-widgets/base",
     "model_module_version": "1.2.0",
     "model_name": "LayoutModel",
     "state": {
      "_model_module": "@jupyter-widgets/base",
      "_model_module_version": "1.2.0",
      "_model_name": "LayoutModel",
      "_view_count": null,
      "_view_module": "@jupyter-widgets/base",
      "_view_module_version": "1.2.0",
      "_view_name": "LayoutView",
      "align_content": null,
      "align_items": null,
      "align_self": null,
      "border": null,
      "bottom": null,
      "display": null,
      "flex": null,
      "flex_flow": null,
      "grid_area": null,
      "grid_auto_columns": null,
      "grid_auto_flow": null,
      "grid_auto_rows": null,
      "grid_column": null,
      "grid_gap": null,
      "grid_row": null,
      "grid_template_areas": null,
      "grid_template_columns": null,
      "grid_template_rows": null,
      "height": null,
      "justify_content": null,
      "justify_items": null,
      "left": null,
      "margin": null,
      "max_height": null,
      "max_width": null,
      "min_height": null,
      "min_width": null,
      "object_fit": null,
      "object_position": null,
      "order": null,
      "overflow": null,
      "overflow_x": null,
      "overflow_y": null,
      "padding": null,
      "right": null,
      "top": null,
      "visibility": null,
      "width": null
     }
    },
    "34f5af9caa254929a73b05fc2003281d": {
     "model_module": "@jupyter-widgets/base",
     "model_module_version": "1.2.0",
     "model_name": "LayoutModel",
     "state": {
      "_model_module": "@jupyter-widgets/base",
      "_model_module_version": "1.2.0",
      "_model_name": "LayoutModel",
      "_view_count": null,
      "_view_module": "@jupyter-widgets/base",
      "_view_module_version": "1.2.0",
      "_view_name": "LayoutView",
      "align_content": null,
      "align_items": null,
      "align_self": null,
      "border": null,
      "bottom": null,
      "display": null,
      "flex": null,
      "flex_flow": null,
      "grid_area": null,
      "grid_auto_columns": null,
      "grid_auto_flow": null,
      "grid_auto_rows": null,
      "grid_column": null,
      "grid_gap": null,
      "grid_row": null,
      "grid_template_areas": null,
      "grid_template_columns": null,
      "grid_template_rows": null,
      "height": null,
      "justify_content": null,
      "justify_items": null,
      "left": null,
      "margin": null,
      "max_height": null,
      "max_width": null,
      "min_height": null,
      "min_width": null,
      "object_fit": null,
      "object_position": null,
      "order": null,
      "overflow": null,
      "overflow_x": null,
      "overflow_y": null,
      "padding": null,
      "right": null,
      "top": null,
      "visibility": null,
      "width": null
     }
    },
    "3e010a56b5da433ca5faf0cf2b10a99c": {
     "model_module": "@jupyter-widgets/controls",
     "model_module_version": "1.5.0",
     "model_name": "HTMLModel",
     "state": {
      "_dom_classes": [],
      "_model_module": "@jupyter-widgets/controls",
      "_model_module_version": "1.5.0",
      "_model_name": "HTMLModel",
      "_view_count": null,
      "_view_module": "@jupyter-widgets/controls",
      "_view_module_version": "1.5.0",
      "_view_name": "HTMLView",
      "description": "",
      "description_tooltip": null,
      "layout": "IPY_MODEL_2ffd9bf9869c4079b3b28ec8a51ce47f",
      "placeholder": "​",
      "style": "IPY_MODEL_c6b6093cb11f49b4bbf35018bf11d151",
      "value": " 4.21k/? [00:00&lt;00:00, 196kB/s]"
     }
    },
    "43b537b42741448f92fd8494695b52c4": {
     "model_module": "@jupyter-widgets/controls",
     "model_module_version": "1.5.0",
     "model_name": "HBoxModel",
     "state": {
      "_dom_classes": [],
      "_model_module": "@jupyter-widgets/controls",
      "_model_module_version": "1.5.0",
      "_model_name": "HBoxModel",
      "_view_count": null,
      "_view_module": "@jupyter-widgets/controls",
      "_view_module_version": "1.5.0",
      "_view_name": "HBoxView",
      "box_style": "",
      "children": [
       "IPY_MODEL_7f90f324ba41400389668214e7badfda",
       "IPY_MODEL_74129ccf51f943cba0c94c935d04860e",
       "IPY_MODEL_3e010a56b5da433ca5faf0cf2b10a99c"
      ],
      "layout": "IPY_MODEL_1ccbd366fc4a4ddba4dbf4d4c5e73d14"
     }
    },
    "4c67ad240ed8477a9e6d30f903041729": {
     "model_module": "@jupyter-widgets/base",
     "model_module_version": "1.2.0",
     "model_name": "LayoutModel",
     "state": {
      "_model_module": "@jupyter-widgets/base",
      "_model_module_version": "1.2.0",
      "_model_name": "LayoutModel",
      "_view_count": null,
      "_view_module": "@jupyter-widgets/base",
      "_view_module_version": "1.2.0",
      "_view_name": "LayoutView",
      "align_content": null,
      "align_items": null,
      "align_self": null,
      "border": null,
      "bottom": null,
      "display": null,
      "flex": null,
      "flex_flow": null,
      "grid_area": null,
      "grid_auto_columns": null,
      "grid_auto_flow": null,
      "grid_auto_rows": null,
      "grid_column": null,
      "grid_gap": null,
      "grid_row": null,
      "grid_template_areas": null,
      "grid_template_columns": null,
      "grid_template_rows": null,
      "height": null,
      "justify_content": null,
      "justify_items": null,
      "left": null,
      "margin": null,
      "max_height": null,
      "max_width": null,
      "min_height": null,
      "min_width": null,
      "object_fit": null,
      "object_position": null,
      "order": null,
      "overflow": null,
      "overflow_x": null,
      "overflow_y": null,
      "padding": null,
      "right": null,
      "top": null,
      "visibility": null,
      "width": null
     }
    },
    "602be1e542e446d5a51bfcf566101d5e": {
     "model_module": "@jupyter-widgets/controls",
     "model_module_version": "1.5.0",
     "model_name": "ProgressStyleModel",
     "state": {
      "_model_module": "@jupyter-widgets/controls",
      "_model_module_version": "1.5.0",
      "_model_name": "ProgressStyleModel",
      "_view_count": null,
      "_view_module": "@jupyter-widgets/base",
      "_view_module_version": "1.2.0",
      "_view_name": "StyleView",
      "bar_color": null,
      "description_width": ""
     }
    },
    "6cefbb32c7aa4880ba7e0a9dcbfa67ec": {
     "model_module": "@jupyter-widgets/base",
     "model_module_version": "1.2.0",
     "model_name": "LayoutModel",
     "state": {
      "_model_module": "@jupyter-widgets/base",
      "_model_module_version": "1.2.0",
      "_model_name": "LayoutModel",
      "_view_count": null,
      "_view_module": "@jupyter-widgets/base",
      "_view_module_version": "1.2.0",
      "_view_name": "LayoutView",
      "align_content": null,
      "align_items": null,
      "align_self": null,
      "border": null,
      "bottom": null,
      "display": null,
      "flex": null,
      "flex_flow": null,
      "grid_area": null,
      "grid_auto_columns": null,
      "grid_auto_flow": null,
      "grid_auto_rows": null,
      "grid_column": null,
      "grid_gap": null,
      "grid_row": null,
      "grid_template_areas": null,
      "grid_template_columns": null,
      "grid_template_rows": null,
      "height": null,
      "justify_content": null,
      "justify_items": null,
      "left": null,
      "margin": null,
      "max_height": null,
      "max_width": null,
      "min_height": null,
      "min_width": null,
      "object_fit": null,
      "object_position": null,
      "order": null,
      "overflow": null,
      "overflow_x": null,
      "overflow_y": null,
      "padding": null,
      "right": null,
      "top": null,
      "visibility": null,
      "width": null
     }
    },
    "74129ccf51f943cba0c94c935d04860e": {
     "model_module": "@jupyter-widgets/controls",
     "model_module_version": "1.5.0",
     "model_name": "FloatProgressModel",
     "state": {
      "_dom_classes": [],
      "_model_module": "@jupyter-widgets/controls",
      "_model_module_version": "1.5.0",
      "_model_name": "FloatProgressModel",
      "_view_count": null,
      "_view_module": "@jupyter-widgets/controls",
      "_view_module_version": "1.5.0",
      "_view_name": "ProgressView",
      "bar_style": "success",
      "description": "",
      "description_tooltip": null,
      "layout": "IPY_MODEL_dc79ccf280804259b16cdd43368e729e",
      "max": 1652,
      "min": 0,
      "orientation": "horizontal",
      "style": "IPY_MODEL_7ba9447f2b4548e2960491c9b07025de",
      "value": 1652
     }
    },
    "7ba9447f2b4548e2960491c9b07025de": {
     "model_module": "@jupyter-widgets/controls",
     "model_module_version": "1.5.0",
     "model_name": "ProgressStyleModel",
     "state": {
      "_model_module": "@jupyter-widgets/controls",
      "_model_module_version": "1.5.0",
      "_model_name": "ProgressStyleModel",
      "_view_count": null,
      "_view_module": "@jupyter-widgets/base",
      "_view_module_version": "1.2.0",
      "_view_name": "StyleView",
      "bar_color": null,
      "description_width": ""
     }
    },
    "7f90f324ba41400389668214e7badfda": {
     "model_module": "@jupyter-widgets/controls",
     "model_module_version": "1.5.0",
     "model_name": "HTMLModel",
     "state": {
      "_dom_classes": [],
      "_model_module": "@jupyter-widgets/controls",
      "_model_module_version": "1.5.0",
      "_model_name": "HTMLModel",
      "_view_count": null,
      "_view_module": "@jupyter-widgets/controls",
      "_view_module_version": "1.5.0",
      "_view_name": "HTMLView",
      "description": "",
      "description_tooltip": null,
      "layout": "IPY_MODEL_cd540d094e6f48198c653b7d495bb5e5",
      "placeholder": "​",
      "style": "IPY_MODEL_1213f29982774051b333f8851e7db4dc",
      "value": "Downloading builder script: "
     }
    },
    "84410dc7d8a94fd793c0eefdde3fe3e6": {
     "model_module": "@jupyter-widgets/controls",
     "model_module_version": "1.5.0",
     "model_name": "HTMLModel",
     "state": {
      "_dom_classes": [],
      "_model_module": "@jupyter-widgets/controls",
      "_model_module_version": "1.5.0",
      "_model_name": "HTMLModel",
      "_view_count": null,
      "_view_module": "@jupyter-widgets/controls",
      "_view_module_version": "1.5.0",
      "_view_name": "HTMLView",
      "description": "",
      "description_tooltip": null,
      "layout": "IPY_MODEL_4c67ad240ed8477a9e6d30f903041729",
      "placeholder": "​",
      "style": "IPY_MODEL_b0ef05cde5f94431adde46203e154448",
      "value": "Map: 100%"
     }
    },
    "b0ef05cde5f94431adde46203e154448": {
     "model_module": "@jupyter-widgets/controls",
     "model_module_version": "1.5.0",
     "model_name": "DescriptionStyleModel",
     "state": {
      "_model_module": "@jupyter-widgets/controls",
      "_model_module_version": "1.5.0",
      "_model_name": "DescriptionStyleModel",
      "_view_count": null,
      "_view_module": "@jupyter-widgets/base",
      "_view_module_version": "1.2.0",
      "_view_name": "StyleView",
      "description_width": ""
     }
    },
    "c08201345c7a49d1a769f244a11ce822": {
     "model_module": "@jupyter-widgets/controls",
     "model_module_version": "1.5.0",
     "model_name": "FloatProgressModel",
     "state": {
      "_dom_classes": [],
      "_model_module": "@jupyter-widgets/controls",
      "_model_module_version": "1.5.0",
      "_model_name": "FloatProgressModel",
      "_view_count": null,
      "_view_module": "@jupyter-widgets/controls",
      "_view_module_version": "1.5.0",
      "_view_name": "ProgressView",
      "bar_style": "success",
      "description": "",
      "description_tooltip": null,
      "layout": "IPY_MODEL_34f5af9caa254929a73b05fc2003281d",
      "max": 200,
      "min": 0,
      "orientation": "horizontal",
      "style": "IPY_MODEL_eb3396dd83014162b32faf0ad908ec56",
      "value": 200
     }
    },
    "c3b138e5da0e4128ba5a5f8aa9257771": {
     "model_module": "@jupyter-widgets/base",
     "model_module_version": "1.2.0",
     "model_name": "LayoutModel",
     "state": {
      "_model_module": "@jupyter-widgets/base",
      "_model_module_version": "1.2.0",
      "_model_name": "LayoutModel",
      "_view_count": null,
      "_view_module": "@jupyter-widgets/base",
      "_view_module_version": "1.2.0",
      "_view_name": "LayoutView",
      "align_content": null,
      "align_items": null,
      "align_self": null,
      "border": null,
      "bottom": null,
      "display": null,
      "flex": null,
      "flex_flow": null,
      "grid_area": null,
      "grid_auto_columns": null,
      "grid_auto_flow": null,
      "grid_auto_rows": null,
      "grid_column": null,
      "grid_gap": null,
      "grid_row": null,
      "grid_template_areas": null,
      "grid_template_columns": null,
      "grid_template_rows": null,
      "height": null,
      "justify_content": null,
      "justify_items": null,
      "left": null,
      "margin": null,
      "max_height": null,
      "max_width": null,
      "min_height": null,
      "min_width": null,
      "object_fit": null,
      "object_position": null,
      "order": null,
      "overflow": null,
      "overflow_x": null,
      "overflow_y": null,
      "padding": null,
      "right": null,
      "top": null,
      "visibility": null,
      "width": null
     }
    },
    "c6b6093cb11f49b4bbf35018bf11d151": {
     "model_module": "@jupyter-widgets/controls",
     "model_module_version": "1.5.0",
     "model_name": "DescriptionStyleModel",
     "state": {
      "_model_module": "@jupyter-widgets/controls",
      "_model_module_version": "1.5.0",
      "_model_name": "DescriptionStyleModel",
      "_view_count": null,
      "_view_module": "@jupyter-widgets/base",
      "_view_module_version": "1.2.0",
      "_view_name": "StyleView",
      "description_width": ""
     }
    },
    "cd540d094e6f48198c653b7d495bb5e5": {
     "model_module": "@jupyter-widgets/base",
     "model_module_version": "1.2.0",
     "model_name": "LayoutModel",
     "state": {
      "_model_module": "@jupyter-widgets/base",
      "_model_module_version": "1.2.0",
      "_model_name": "LayoutModel",
      "_view_count": null,
      "_view_module": "@jupyter-widgets/base",
      "_view_module_version": "1.2.0",
      "_view_name": "LayoutView",
      "align_content": null,
      "align_items": null,
      "align_self": null,
      "border": null,
      "bottom": null,
      "display": null,
      "flex": null,
      "flex_flow": null,
      "grid_area": null,
      "grid_auto_columns": null,
      "grid_auto_flow": null,
      "grid_auto_rows": null,
      "grid_column": null,
      "grid_gap": null,
      "grid_row": null,
      "grid_template_areas": null,
      "grid_template_columns": null,
      "grid_template_rows": null,
      "height": null,
      "justify_content": null,
      "justify_items": null,
      "left": null,
      "margin": null,
      "max_height": null,
      "max_width": null,
      "min_height": null,
      "min_width": null,
      "object_fit": null,
      "object_position": null,
      "order": null,
      "overflow": null,
      "overflow_x": null,
      "overflow_y": null,
      "padding": null,
      "right": null,
      "top": null,
      "visibility": null,
      "width": null
     }
    },
    "d033d7fdfca04f2691b8262de008d638": {
     "model_module": "@jupyter-widgets/controls",
     "model_module_version": "1.5.0",
     "model_name": "DescriptionStyleModel",
     "state": {
      "_model_module": "@jupyter-widgets/controls",
      "_model_module_version": "1.5.0",
      "_model_name": "DescriptionStyleModel",
      "_view_count": null,
      "_view_module": "@jupyter-widgets/base",
      "_view_module_version": "1.2.0",
      "_view_name": "StyleView",
      "description_width": ""
     }
    },
    "dc79ccf280804259b16cdd43368e729e": {
     "model_module": "@jupyter-widgets/base",
     "model_module_version": "1.2.0",
     "model_name": "LayoutModel",
     "state": {
      "_model_module": "@jupyter-widgets/base",
      "_model_module_version": "1.2.0",
      "_model_name": "LayoutModel",
      "_view_count": null,
      "_view_module": "@jupyter-widgets/base",
      "_view_module_version": "1.2.0",
      "_view_name": "LayoutView",
      "align_content": null,
      "align_items": null,
      "align_self": null,
      "border": null,
      "bottom": null,
      "display": null,
      "flex": null,
      "flex_flow": null,
      "grid_area": null,
      "grid_auto_columns": null,
      "grid_auto_flow": null,
      "grid_auto_rows": null,
      "grid_column": null,
      "grid_gap": null,
      "grid_row": null,
      "grid_template_areas": null,
      "grid_template_columns": null,
      "grid_template_rows": null,
      "height": null,
      "justify_content": null,
      "justify_items": null,
      "left": null,
      "margin": null,
      "max_height": null,
      "max_width": null,
      "min_height": null,
      "min_width": null,
      "object_fit": null,
      "object_position": null,
      "order": null,
      "overflow": null,
      "overflow_x": null,
      "overflow_y": null,
      "padding": null,
      "right": null,
      "top": null,
      "visibility": null,
      "width": null
     }
    },
    "e1f251956618483e90808113970e66b5": {
     "model_module": "@jupyter-widgets/base",
     "model_module_version": "1.2.0",
     "model_name": "LayoutModel",
     "state": {
      "_model_module": "@jupyter-widgets/base",
      "_model_module_version": "1.2.0",
      "_model_name": "LayoutModel",
      "_view_count": null,
      "_view_module": "@jupyter-widgets/base",
      "_view_module_version": "1.2.0",
      "_view_name": "LayoutView",
      "align_content": null,
      "align_items": null,
      "align_self": null,
      "border": null,
      "bottom": null,
      "display": null,
      "flex": null,
      "flex_flow": null,
      "grid_area": null,
      "grid_auto_columns": null,
      "grid_auto_flow": null,
      "grid_auto_rows": null,
      "grid_column": null,
      "grid_gap": null,
      "grid_row": null,
      "grid_template_areas": null,
      "grid_template_columns": null,
      "grid_template_rows": null,
      "height": null,
      "justify_content": null,
      "justify_items": null,
      "left": null,
      "margin": null,
      "max_height": null,
      "max_width": null,
      "min_height": null,
      "min_width": null,
      "object_fit": null,
      "object_position": null,
      "order": null,
      "overflow": null,
      "overflow_x": null,
      "overflow_y": null,
      "padding": null,
      "right": null,
      "top": null,
      "visibility": null,
      "width": null
     }
    },
    "e20667cdfbed4d82bd0eca4e0e79381f": {
     "model_module": "@jupyter-widgets/base",
     "model_module_version": "1.2.0",
     "model_name": "LayoutModel",
     "state": {
      "_model_module": "@jupyter-widgets/base",
      "_model_module_version": "1.2.0",
      "_model_name": "LayoutModel",
      "_view_count": null,
      "_view_module": "@jupyter-widgets/base",
      "_view_module_version": "1.2.0",
      "_view_name": "LayoutView",
      "align_content": null,
      "align_items": null,
      "align_self": null,
      "border": null,
      "bottom": null,
      "display": null,
      "flex": null,
      "flex_flow": null,
      "grid_area": null,
      "grid_auto_columns": null,
      "grid_auto_flow": null,
      "grid_auto_rows": null,
      "grid_column": null,
      "grid_gap": null,
      "grid_row": null,
      "grid_template_areas": null,
      "grid_template_columns": null,
      "grid_template_rows": null,
      "height": null,
      "justify_content": null,
      "justify_items": null,
      "left": null,
      "margin": null,
      "max_height": null,
      "max_width": null,
      "min_height": null,
      "min_width": null,
      "object_fit": null,
      "object_position": null,
      "order": null,
      "overflow": null,
      "overflow_x": null,
      "overflow_y": null,
      "padding": null,
      "right": null,
      "top": null,
      "visibility": null,
      "width": null
     }
    },
    "eb3396dd83014162b32faf0ad908ec56": {
     "model_module": "@jupyter-widgets/controls",
     "model_module_version": "1.5.0",
     "model_name": "ProgressStyleModel",
     "state": {
      "_model_module": "@jupyter-widgets/controls",
      "_model_module_version": "1.5.0",
      "_model_name": "ProgressStyleModel",
      "_view_count": null,
      "_view_module": "@jupyter-widgets/base",
      "_view_module_version": "1.2.0",
      "_view_name": "StyleView",
      "bar_color": null,
      "description_width": ""
     }
    },
    "ee0a7bda066248fc950d79b6a320f4ec": {
     "model_module": "@jupyter-widgets/base",
     "model_module_version": "1.2.0",
     "model_name": "LayoutModel",
     "state": {
      "_model_module": "@jupyter-widgets/base",
      "_model_module_version": "1.2.0",
      "_model_name": "LayoutModel",
      "_view_count": null,
      "_view_module": "@jupyter-widgets/base",
      "_view_module_version": "1.2.0",
      "_view_name": "LayoutView",
      "align_content": null,
      "align_items": null,
      "align_self": null,
      "border": null,
      "bottom": null,
      "display": null,
      "flex": null,
      "flex_flow": null,
      "grid_area": null,
      "grid_auto_columns": null,
      "grid_auto_flow": null,
      "grid_auto_rows": null,
      "grid_column": null,
      "grid_gap": null,
      "grid_row": null,
      "grid_template_areas": null,
      "grid_template_columns": null,
      "grid_template_rows": null,
      "height": null,
      "justify_content": null,
      "justify_items": null,
      "left": null,
      "margin": null,
      "max_height": null,
      "max_width": null,
      "min_height": null,
      "min_width": null,
      "object_fit": null,
      "object_position": null,
      "order": null,
      "overflow": null,
      "overflow_x": null,
      "overflow_y": null,
      "padding": null,
      "right": null,
      "top": null,
      "visibility": null,
      "width": null
     }
    },
    "f66062c311a946f9845eb2f96c16b0de": {
     "model_module": "@jupyter-widgets/controls",
     "model_module_version": "1.5.0",
     "model_name": "HTMLModel",
     "state": {
      "_dom_classes": [],
      "_model_module": "@jupyter-widgets/controls",
      "_model_module_version": "1.5.0",
      "_model_name": "HTMLModel",
      "_view_count": null,
      "_view_module": "@jupyter-widgets/controls",
      "_view_module_version": "1.5.0",
      "_view_name": "HTMLView",
      "description": "",
      "description_tooltip": null,
      "layout": "IPY_MODEL_c3b138e5da0e4128ba5a5f8aa9257771",
      "placeholder": "​",
      "style": "IPY_MODEL_2757ade88611487bb28bd9123d444f83",
      "value": " 1000/1000 [00:01&lt;00:00, 515.76 examples/s]"
     }
    },
    "f977f9deb0624361bc212954b4fafc60": {
     "model_module": "@jupyter-widgets/controls",
     "model_module_version": "1.5.0",
     "model_name": "FloatProgressModel",
     "state": {
      "_dom_classes": [],
      "_model_module": "@jupyter-widgets/controls",
      "_model_module_version": "1.5.0",
      "_model_name": "FloatProgressModel",
      "_view_count": null,
      "_view_module": "@jupyter-widgets/controls",
      "_view_module_version": "1.5.0",
      "_view_name": "ProgressView",
      "bar_style": "success",
      "description": "",
      "description_tooltip": null,
      "layout": "IPY_MODEL_fa3f352d485b4d07b54dbd1787906b38",
      "max": 1000,
      "min": 0,
      "orientation": "horizontal",
      "style": "IPY_MODEL_602be1e542e446d5a51bfcf566101d5e",
      "value": 1000
     }
    },
    "fa3f352d485b4d07b54dbd1787906b38": {
     "model_module": "@jupyter-widgets/base",
     "model_module_version": "1.2.0",
     "model_name": "LayoutModel",
     "state": {
      "_model_module": "@jupyter-widgets/base",
      "_model_module_version": "1.2.0",
      "_model_name": "LayoutModel",
      "_view_count": null,
      "_view_module": "@jupyter-widgets/base",
      "_view_module_version": "1.2.0",
      "_view_name": "LayoutView",
      "align_content": null,
      "align_items": null,
      "align_self": null,
      "border": null,
      "bottom": null,
      "display": null,
      "flex": null,
      "flex_flow": null,
      "grid_area": null,
      "grid_auto_columns": null,
      "grid_auto_flow": null,
      "grid_auto_rows": null,
      "grid_column": null,
      "grid_gap": null,
      "grid_row": null,
      "grid_template_areas": null,
      "grid_template_columns": null,
      "grid_template_rows": null,
      "height": null,
      "justify_content": null,
      "justify_items": null,
      "left": null,
      "margin": null,
      "max_height": null,
      "max_width": null,
      "min_height": null,
      "min_width": null,
      "object_fit": null,
      "object_position": null,
      "order": null,
      "overflow": null,
      "overflow_x": null,
      "overflow_y": null,
      "padding": null,
      "right": null,
      "top": null,
      "visibility": null,
      "width": null
     }
    }
   }
  }
 },
 "nbformat": 4,
 "nbformat_minor": 4
}
